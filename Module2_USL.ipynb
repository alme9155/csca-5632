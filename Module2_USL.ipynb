{
 "cells": [
  {
   "cell_type": "markdown",
   "metadata": {
    "deletable": false,
    "editable": false,
    "nbgrader": {
     "cell_type": "markdown",
     "checksum": "556d9673a40cef731438819650b4afeb",
     "grade": false,
     "grade_id": "cell-3fab386f48bbd974",
     "locked": true,
     "schema_version": 3,
     "solution": false,
     "task": false
    }
   },
   "source": [
    "### Grading\n",
    "This week's lab doesn't have any auto-graded components. Each question in this notebook has an accompanying Peer Review question. Although the lab shows as being ungraded, you need to complete the notebook to answer the Peer Review questions. <br>\n",
    "**DO NOT CHANGE VARIABLE OR METHOD SIGNATURES** "
   ]
  },
  {
   "cell_type": "markdown",
   "metadata": {
    "deletable": false,
    "editable": false,
    "nbgrader": {
     "cell_type": "markdown",
     "checksum": "19ae55b356f0ad3dfda48f3cb99dddb9",
     "grade": false,
     "grade_id": "cell-9488ace019b4c835",
     "locked": true,
     "schema_version": 3,
     "solution": false,
     "task": false
    }
   },
   "source": [
    "### Validate Button\n",
    "This week's lab doesn't have any auto-graded components. Each question in this notebook has an accompanying Peer Review question. Although the lab shows as being ungraded, you need to complete the notebook to answer the Peer Review questions. \n",
    "\n",
    "You do not need to use the Validate button for this lab since there are no auto-graded components. If you hit the Validate button, it will time out given the number of visualizations in the notebook. Cells with longer execution times cause the validate button to time out and freeze. ***This notebook's Validate button time-out does not affect the final submission grading.*** "
   ]
  },
  {
   "cell_type": "markdown",
   "metadata": {
    "deletable": false,
    "editable": false,
    "id": "local-marketing",
    "nbgrader": {
     "cell_type": "markdown",
     "checksum": "412c0fbff4d9e5401141ed5f953ba132",
     "grade": false,
     "grade_id": "cell-539bfe3db5c0f774",
     "locked": true,
     "schema_version": 3,
     "solution": false,
     "task": false
    }
   },
   "source": [
    "# Clustering RNA sequences to identify cancer types\n",
    "\n",
    "In this assignment, we will use clustering algorithms on RNA sequence data to identify cancer types.\n",
    "Since the [whole data](https://www.synapse.org/#!Synapse:syn4301332) (from [Cancer Genome Atlas Pan-Cancer project](https://www.ncbi.nlm.nih.gov/pmc/articles/PMC3919969/)) is very big, we will use a [subset data from UCI Machine Learning repository](https://archive.ics.uci.edu/ml/datasets/gene+expression+cancer+RNA-Seq#). The subset data contains only 5 labels; BRCA, KIRC, COAD, LUAD and PRAD. The meanings of those labels are as below.\n",
    "\n",
    "|Abbreviation|Cancer|\n",
    "|:----:|:-------:|\n",
    "|LUSC|Lung squamous cell carcinoma |\n",
    "|READ |Rectum adenocarcinoma |\n",
    "|GBM |Glioblastoma multiforme|\n",
    "|BLCA |Bladder Urothelial Carcinoma|\n",
    "|UCEC |Uterine Corpus Endometrioid Carcinoma|\n",
    "|COAD |Colon adenocarcinoma|\n",
    "|OV |Ovarian serous cystadenocarcinoma|\n",
    "|LAML |Acute Myeloid Leukemia|\n",
    "|HNSC |Head and Neck squamous cell carcinoma|\n",
    "|LUAD |Lung adenocarcinoma|\n",
    "|BRCA |Breast invasive carcinoma|\n",
    "|KIRC |Kidney renal clear cell carcinoma|\n",
    "\n",
    "Although we can use the data for supervised learning model training, we will not use these labels for training, but use them for evaluation."
   ]
  },
  {
   "cell_type": "code",
   "execution_count": 2,
   "metadata": {
    "deletable": false,
    "editable": false,
    "id": "ordered-pasta",
    "nbgrader": {
     "cell_type": "code",
     "checksum": "deb30e3992bd6264bc0999a631f4f249",
     "grade": false,
     "grade_id": "cell-aae50706a878da7b",
     "locked": true,
     "schema_version": 3,
     "solution": false,
     "task": false
    }
   },
   "outputs": [],
   "source": [
    "import pandas as pd\n",
    "import matplotlib.pyplot as plt\n",
    "import numpy as np\n",
    "from sklearn.cluster import AgglomerativeClustering, KMeans\n",
    "from sklearn.metrics import accuracy_score, confusion_matrix\n",
    "import time"
   ]
  },
  {
   "cell_type": "code",
   "execution_count": 3,
   "metadata": {
    "deletable": false,
    "editable": false,
    "id": "forbidden-patrol",
    "nbgrader": {
     "cell_type": "code",
     "checksum": "7d54524a953add3d7536b6f813e910b6",
     "grade": false,
     "grade_id": "cell-0349e5e5a7302cd2",
     "locked": true,
     "schema_version": 3,
     "solution": false,
     "task": false
    }
   },
   "outputs": [],
   "source": [
    "# Read data. Do not change the variable names (data, label)\n",
    "data = pd.read_csv('data/data.csv')\n",
    "label = pd.read_csv('data/labels.csv')\n",
    "data=data.drop('Unnamed: 0',axis=1)\n",
    "label=label.drop('Unnamed: 0',axis=1)"
   ]
  },
  {
   "cell_type": "markdown",
   "metadata": {
    "deletable": false,
    "editable": false,
    "id": "universal-consultancy",
    "nbgrader": {
     "cell_type": "markdown",
     "checksum": "70fad3bc72f0de4ef37faa39dbc1aca1",
     "grade": false,
     "grade_id": "cell-a2791930798cf4eb",
     "locked": true,
     "schema_version": 3,
     "solution": false,
     "task": false
    }
   },
   "source": [
    "### A. [Peer Review] Perform basic data inspection or EDA on the pandas dataframe.\n",
    "- How many observations?\n",
    "- How many features?"
   ]
  },
  {
   "cell_type": "code",
   "execution_count": 36,
   "metadata": {
    "deletable": false,
    "nbgrader": {
     "cell_type": "code",
     "checksum": "3b9a724c90825ae8d7bc9a7d59a37620",
     "grade": false,
     "grade_id": "cell-2958c08df1714546",
     "locked": false,
     "schema_version": 3,
     "solution": true,
     "task": false
    }
   },
   "outputs": [
    {
     "name": "stdout",
     "output_type": "stream",
     "text": [
      "Number of zeros in mean values: 267\n",
      "Number of zeros in max values: 267\n",
      "Number of zeros in min values: 8175\n",
      "number of observation: 800\n",
      "number of features: 20531\n",
      "----- data ------\n",
      "data.info: <bound method DataFrame.info of      gene_0    gene_1    gene_2    gene_3     gene_4  gene_5    gene_6  \\\n",
      "0       0.0  2.017209  3.265527  5.478487  10.431999     0.0  7.175175   \n",
      "1       0.0  0.592732  1.588421  7.586157   9.623011     0.0  6.816049   \n",
      "2       0.0  3.511759  4.327199  6.881787   9.870730     0.0  6.972130   \n",
      "3       0.0  3.663618  4.507649  6.659068  10.196184     0.0  7.843375   \n",
      "4       0.0  2.655741  2.821547  6.539454   9.738265     0.0  6.566967   \n",
      "..      ...       ...       ...       ...        ...     ...       ...   \n",
      "796     0.0  1.865642  2.718197  7.350099  10.006003     0.0  6.764792   \n",
      "797     0.0  3.942955  4.453807  6.346597  10.056868     0.0  7.320331   \n",
      "798     0.0  3.249582  3.707492  8.185901   9.504082     0.0  7.536589   \n",
      "799     0.0  2.590339  2.787976  7.318624   9.987136     0.0  9.213464   \n",
      "800     0.0  2.325242  3.805932  6.530246   9.560367     0.0  7.957027   \n",
      "\n",
      "       gene_7  gene_8  gene_9  ...  gene_20521  gene_20522  gene_20523  \\\n",
      "0    0.591871     0.0     0.0  ...    4.926711    8.210257    9.723516   \n",
      "1    0.000000     0.0     0.0  ...    4.593372    7.323865    9.740931   \n",
      "2    0.452595     0.0     0.0  ...    5.125213    8.127123   10.908640   \n",
      "3    0.434882     0.0     0.0  ...    6.076566    8.792959   10.141520   \n",
      "4    0.360982     0.0     0.0  ...    5.996032    8.891425   10.373790   \n",
      "..        ...     ...     ...  ...         ...         ...         ...   \n",
      "796  0.496922     0.0     0.0  ...    6.088133    9.118313   10.004852   \n",
      "797  0.000000     0.0     0.0  ...    6.371876    9.623335    9.823921   \n",
      "798  1.811101     0.0     0.0  ...    5.719386    8.610704   10.485517   \n",
      "799  0.000000     0.0     0.0  ...    5.785237    8.605387   11.004677   \n",
      "800  0.000000     0.0     0.0  ...    6.403075    8.594354   10.243079   \n",
      "\n",
      "     gene_20524  gene_20525  gene_20526  gene_20527  gene_20528  gene_20529  \\\n",
      "0      7.220030    9.119813   12.003135    9.650743    8.921326    5.286759   \n",
      "1      6.256586    8.381612   12.674552   10.517059    9.397854    2.094168   \n",
      "2      5.401607    9.911597    9.045255    9.788359   10.090470    1.683023   \n",
      "3      8.942805    9.601208   11.392682    9.694814    9.684365    3.292001   \n",
      "4      7.181162    9.846910   11.922439    9.217749    9.461191    5.110372   \n",
      "..          ...         ...         ...         ...         ...         ...   \n",
      "796    4.484415    9.614701   12.031267    9.813063   10.092770    8.819269   \n",
      "797    6.555327    9.064002   11.633422   10.317266    8.745983    9.659081   \n",
      "798    3.589763    9.350636   12.180944   10.681194    9.466711    4.677458   \n",
      "799    4.745888    9.626383   11.198279   10.335513   10.400581    5.718751   \n",
      "800    9.139459   10.102934   11.641081   10.607358    9.844794    4.550716   \n",
      "\n",
      "     gene_20530  \n",
      "0      0.000000  \n",
      "1      0.000000  \n",
      "2      0.000000  \n",
      "3      0.000000  \n",
      "4      0.000000  \n",
      "..          ...  \n",
      "796    0.000000  \n",
      "797    0.000000  \n",
      "798    0.586693  \n",
      "799    0.000000  \n",
      "800    0.000000  \n",
      "\n",
      "[801 rows x 20531 columns]>\n",
      "----- label ------\n",
      "label.info: <bound method DataFrame.info of     Class\n",
      "0    PRAD\n",
      "1    LUAD\n",
      "2    PRAD\n",
      "3    PRAD\n",
      "4    BRCA\n",
      "..    ...\n",
      "796  BRCA\n",
      "797  LUAD\n",
      "798  COAD\n",
      "799  PRAD\n",
      "800  PRAD\n",
      "\n",
      "[801 rows x 1 columns]>\n"
     ]
    }
   ],
   "source": [
    "# perform basic data inspection such as getting the number of observations and number of features\n",
    "# you can also display part of the dataframe or run data.info() \n",
    "# your code here\n",
    "from sklearn.decomposition import PCA\n",
    "from sklearn.preprocessing import StandardScaler\n",
    "\n",
    "\n",
    "#using PCA to reduce dimension\n",
    "# scaler=StandardScaler()\n",
    "# scaled_data = scaler.fit_transform(data)\n",
    "# pca = PCA()\n",
    "# pca.fit(scaled_data)\n",
    "# cum_exp_var = np.cumsum(pca.explained_variance_ratio_)\n",
    "# target_var_095 = 0.95\n",
    "# num_comp_95 = np.argmax(cum_exp_var >= target_var_095) + 1  \n",
    "# target_var_090 = 0.90\n",
    "# num_comp_90 = np.argmax(cum_exp_var >= target_var_090) + 1  \n",
    "\n",
    "# print(f\"Number of components for 90% variance: {num_comp_90}\")\n",
    "# print(f\"Number of components for 95% variance: {num_comp_95}\")\n",
    "\n",
    "# pca_90 = PCA(n_components=num_comp_90)\n",
    "# reduced_data_90 = pca_90.fit_transform(scaled_data)\n",
    "\n",
    "# pca_95 = PCA(n_components=num_comp_95)\n",
    "# reduced_data_95 = pca_95.fit_transform(scaled_data)\n",
    "\n",
    "# # print(f\"Shape of reduced data (90%): {reduced_data.shape}\")\n",
    "# print(f\"Shape of reduced data (95%): {reduced_data_95.shape}\")\n",
    "\n",
    "\n",
    "# from sklearn.manifold import TSNE\n",
    "# import seaborn as sns\n",
    "\n",
    "# tsne = TSNE(n_components=2, perplexity=30,\n",
    "#     n_iter=5000, random_state=100)\n",
    "# tsne_results = tsne.fit_transform(reduced_data)\n",
    "\n",
    "# plt.figure(figsize=(8, 8))\n",
    "# sns.scatterplot(x=tsne_results[:, 0], y=tsne_results[:, 1])\n",
    "# plt.title('t-SNE Visualization')\n",
    "# plt.show()\n",
    "\n",
    "# wcss = []  \n",
    "# max_k = 10\n",
    "# for i in range(1, max_k + 1):\n",
    "#     kmeans = KMeans(n_clusters=i, init='k-means++', max_iter=300, n_init=10, random_state=0)\n",
    "#     kmeans.fit(data)\n",
    "#     wcss.append(kmeans.inertia_)\n",
    "\n",
    "# plt.figure(figsize=(8, 6))  # Adjust figure size for better visualization\n",
    "# plt.plot(range(1, max_k + 1), wcss, marker='o', linestyle='--')\n",
    "# plt.title('Elbow Method for Optimal k')\n",
    "# plt.xlabel('Number of Clusters (k)')\n",
    "# plt.ylabel('WCSS (Inertia)')\n",
    "# plt.grid(True)  # Add a grid for easier reading\n",
    "# plt.xticks(range(1, max_k + 1)) #Ensure all k values are shown.\n",
    "# plt.show()\n",
    "\n",
    "mean_values = data.mean()\n",
    "max_values = data.max()\n",
    "min_values = data.min()\n",
    "zeros_in_mean = (mean_values == 0).sum()\n",
    "zeros_in_max = (max_values == 0).sum()\n",
    "zeros_in_min = (min_values == 0).sum()\n",
    "print(f\"Number of zeros in mean values: {zeros_in_mean}\")\n",
    "print(f\"Number of zeros in max values: {zeros_in_max}\")\n",
    "print(f\"Number of zeros in min values: {zeros_in_min}\")\n",
    "\n",
    "print(f\"number of observation: {data.shape[0]-1}\")\n",
    "print(f\"number of features: {data.shape[1]}\")\n",
    "print(\"----- data ------\")\n",
    "print(f\"data.info: {data.info}\")\n",
    "print(\"----- label ------\")\n",
    "print(f\"label.info: {label.info}\")"
   ]
  },
  {
   "cell_type": "markdown",
   "metadata": {
    "deletable": false,
    "editable": false,
    "nbgrader": {
     "cell_type": "markdown",
     "checksum": "65492cc771478d0c9c26f1a73857843a",
     "grade": false,
     "grade_id": "cell-bde1524da0e9a63f",
     "locked": true,
     "schema_version": 3,
     "solution": false,
     "task": false
    }
   },
   "source": [
    "- Draw histograms of mean, max and min values in each feature. You may see numbers around 0-20. What do those numbers mean? (We do not expect students to know or figure out the meanings, but if you do know by chance, feel free to discuss them with the class on the discussion board.) <br>\n",
    "Answer the Peer Review question about this section. "
   ]
  },
  {
   "cell_type": "code",
   "execution_count": 37,
   "metadata": {
    "deletable": false,
    "nbgrader": {
     "cell_type": "code",
     "checksum": "b4abf73a9c24337560f0e0557bb0f7df",
     "grade": false,
     "grade_id": "cell-dcce43bb9bf942c0",
     "locked": false,
     "schema_version": 3,
     "solution": true,
     "task": false
    },
    "scrolled": true
   },
   "outputs": [
    {
     "name": "stdout",
     "output_type": "stream",
     "text": [
      "mean_values = gene_0         0.026642\n",
      "gene_1         3.010909\n",
      "gene_2         3.095350\n",
      "gene_3         6.722305\n",
      "gene_4         9.813612\n",
      "                ...    \n",
      "gene_20526    11.742228\n",
      "gene_20527    10.155271\n",
      "gene_20528     9.590726\n",
      "gene_20529     5.528177\n",
      "gene_20530     0.095411\n",
      "Length: 20531, dtype: float64\n",
      "max_values = gene_0         1.482332\n",
      "gene_1         6.237034\n",
      "gene_2         6.063484\n",
      "gene_3        10.129528\n",
      "gene_4        11.355621\n",
      "                ...    \n",
      "gene_20526    13.715361\n",
      "gene_20527    11.675653\n",
      "gene_20528    12.813320\n",
      "gene_20529    11.205836\n",
      "gene_20530     5.254133\n",
      "Length: 20531, dtype: float64\n",
      "min_values = gene_0        0.000000\n",
      "gene_1        0.000000\n",
      "gene_2        0.000000\n",
      "gene_3        5.009284\n",
      "gene_4        8.435999\n",
      "                ...   \n",
      "gene_20526    9.045255\n",
      "gene_20527    7.530141\n",
      "gene_20528    7.864533\n",
      "gene_20529    0.593975\n",
      "gene_20530    0.000000\n",
      "Length: 20531, dtype: float64\n"
     ]
    },
    {
     "data": {
      "image/png": "[encoded data removed]",
      "text/plain": [
       "<Figure size 576x432 with 1 Axes>"
      ]
     },
     "metadata": {
      "needs_background": "light"
     },
     "output_type": "display_data"
    },
    {
     "name": "stdout",
     "output_type": "stream",
     "text": [
      "Range of Mean Values: [0.0 : 16.430441642060657]\n"
     ]
    }
   ],
   "source": [
    "# draw histograms of mean, max and min values in each feature \n",
    "# your code here\n",
    "\n",
    "# zeros_in_mean = (mean_values == 0).sum()\n",
    "# zeros_in_max = (max_values == 0).sum()\n",
    "# zeros_in_min = (min_values == 0).sum()\n",
    "# print(f\"Number of zeros in mean values: {zeros_in_mean}\")\n",
    "# print(f\"Number of zeros in max values: {zeros_in_max}\")\n",
    "# print(f\"Number of zeros in min values: {zeros_in_min}\")\n",
    "# plt.subplot(2, 3, 4)\n",
    "# plt.boxplot(mean_values, vert=False)\n",
    "# plt.title('Box Plot of Mean Values')\n",
    "# plt.xlabel('Mean Value')\n",
    "\n",
    "# plt.subplot(2, 3, 5)\n",
    "# plt.boxplot(max_values, vert=False)\n",
    "# plt.title('Box Plot of Max Values')\n",
    "# plt.xlabel('Mean Value')\n",
    "\n",
    "\n",
    "# plt.subplot(2, 3, 6)\n",
    "# plt.boxplot(min_values, vert=False)\n",
    "# plt.title('Box Plot of Min Values')\n",
    "# plt.xlabel('Mean Value')\n",
    "\n",
    "\n",
    "mean_values = data.mean()\n",
    "max_values = data.max()\n",
    "min_values = data.min()\n",
    "# mean_values = reduced_data_95.mean()\n",
    "# max_values = reduced_data_95.max()\n",
    "# min_values = reduced_data_95.min()\n",
    "\n",
    "# print(f\"mean_values = {mean_values}\")\n",
    "# print(f\"max_values = {max_values}\")\n",
    "# print(f\"min_values = {min_values}\")\n",
    "plt.figure(figsize=(8, 6))\n",
    "\n",
    "# plt.subplot(2, 3, 1)\n",
    "plt.hist(mean_values, bins=50, color='blue')\n",
    "plt.title('Histogram of Mean Values')\n",
    "plt.xlabel('Mean Value')\n",
    "plt.ylabel(\"Frequency (Number of Genes)\")\n",
    "# plt.tight_layout()\n",
    "plt.grid(True)\n",
    "plt.show()\n",
    "print(f\"Range of Mean Values: [{mean_values.min()} : {mean_values.max()}]\")\n",
    "\n",
    "# plt.subplot(2, 3, 2)\n",
    "\n",
    "plt.figure(figsize=(12, 6))\n",
    "plt.hist(max_values, bins=50, color='red')\n",
    "plt.title('Histogram of Max Values')\n",
    "plt.xlabel('Mean Value')\n",
    "plt.ylabel(\"Frequency (Number of Genes)\")\n",
    "plt.tight_layout()\n",
    "plt.grid(True)\n",
    "plt.show()\n",
    "# print(f\"Range of Max Values: [{max_values.min()} : {max_values.max()}]\")\n",
    "\n",
    "# # # plt.subplot(2, 3, 3)\n",
    "# plt.figure(figsize=(12, 6))\n",
    "# plt.hist(min_values, bins=50, color='green')\n",
    "# plt.title('Histogram of Min Values')\n",
    "# plt.xlabel('Mean Value')\n",
    "# plt.ylabel(\"Frequency (Number of Genes)\")\n",
    "# plt.tight_layout()\n",
    "# plt.grid(True)\n",
    "# plt.show()\n",
    "# print(f\"Range of Min Values: [{min_values.min()} : {min_values.max()}\")\n",
    "\n",
    "# plt.tight_layout()\n",
    "# plt.show()\n",
    "\n"
   ]
  },
  {
   "cell_type": "markdown",
   "metadata": {
    "deletable": false,
    "editable": false,
    "nbgrader": {
     "cell_type": "markdown",
     "checksum": "f10e915af8708dc8de4c6a2a8ca51108",
     "grade": false,
     "grade_id": "cell-6736f47726a243e7",
     "locked": true,
     "schema_version": 3,
     "solution": false,
     "task": false
    }
   },
   "source": [
    "- If we were to train a \"supervised\" learning model, how would you deal with such large feature dimension? \n",
    "- Even after feature dimension reduction, still the number of useful features may be enormous. How it would impact performance or runtime of certain supervised learning algorithms? Which algorithms would suffer from high dimension features than others and why? \n",
    "- How it would impact performance or runtime of an unsupervised learning algorithm?\n",
    "- Draw histograms of mean, max and min values in each feature. You may see numbers around 0-20. What those numbers mean? (We do not expect students to know or figure out the meanings, but if you do know by chance, feel free to discuss them with the class on the discussion board.) <br> <br>\n",
    "Anwer these questions in this week's Peer Review assignment. "
   ]
  },
  {
   "cell_type": "markdown",
   "metadata": {
    "deletable": false,
    "editable": false,
    "nbgrader": {
     "cell_type": "markdown",
     "checksum": "36d2fc3f5b54ad32960f5d4ae52f2100",
     "grade": false,
     "grade_id": "cell-f89786ce6c22a413",
     "locked": true,
     "schema_version": 3,
     "solution": false,
     "task": false
    }
   },
   "source": [
    "### B. [Peer Review] Build a hierarchical clustering model\n",
    "Let's build a model using hierarchical clustering. Hierarchical clustering module is available from `sklearn.cluster.AgglomerativeClustering`. You can choose linkage type and metric. Please check its documentation for more details."
   ]
  },
  {
   "cell_type": "markdown",
   "metadata": {
    "deletable": false,
    "editable": false,
    "nbgrader": {
     "cell_type": "markdown",
     "checksum": "944b291a4ed47f6acd91034c448514b9",
     "grade": false,
     "grade_id": "cell-20bd5000b96709cd",
     "locked": true,
     "schema_version": 3,
     "solution": false,
     "task": false
    }
   },
   "source": [
    "**a) Number of clusters vs distance threshold**\n",
    "Oftentimes hierarchical clustering does not need to know the number of clusters in advance. Instead, one needs to choose threshold distance/similarity to cut the dendrogram later. The AgglomerativeClustering module lets you specify either the number of clusters (n_clusters) or the threshold (distance_threshold). Based on our data, which should we choose to set to which value and why? <br> <br>\n",
    "Answer this question in the Peer Review assignment. "
   ]
  },
  {
   "cell_type": "markdown",
   "metadata": {
    "deletable": false,
    "editable": false,
    "nbgrader": {
     "cell_type": "markdown",
     "checksum": "479da534d14157edc6cab3a8c6dce4b6",
     "grade": false,
     "grade_id": "cell-1dcb3a4ab605373a",
     "locked": true,
     "schema_version": 3,
     "solution": false,
     "task": false
    }
   },
   "source": [
    "#### b) Guess which metric?\n",
    "Can you guess which metric to use (distance-based vs. similarity-based) and why? \n",
    "This question is not graded, but we encourage you to share your thoughts with the class. See the ungraded discussion prompt for this week's material. "
   ]
  },
  {
   "cell_type": "markdown",
   "metadata": {
    "deletable": false,
    "editable": false,
    "nbgrader": {
     "cell_type": "markdown",
     "checksum": "e2681cdcd943f508b334d717be6461f4",
     "grade": false,
     "grade_id": "cell-3bdcbf312ff9cbef",
     "locked": true,
     "schema_version": 3,
     "solution": false,
     "task": false
    }
   },
   "source": [
    "#### c) Build a model\n",
    "Build a model using n_clusters=5 option. Choose any metric and linkage type at first. Display the clustering result labels (you can just print out the result). Do not change the variable (model) name. Answer the question about this section in the Peer Review."
   ]
  },
  {
   "cell_type": "code",
   "execution_count": 33,
   "metadata": {
    "deletable": false,
    "nbgrader": {
     "cell_type": "code",
     "checksum": "7a026cf9b5831deeb187d3b6279c2cbd",
     "grade": false,
     "grade_id": "cell-a182891914c1787d",
     "locked": false,
     "schema_version": 3,
     "solution": true,
     "task": false
    }
   },
   "outputs": [
    {
     "name": "stdout",
     "output_type": "stream",
     "text": [
      "Cluster labels: [4 3 1 4 1 4 0 4 1 4 1 0 4 2 1 1 3 0 0 4 1 0 3 1 0 3 2 1 1 1 1 1 0 3 4 1 0\n",
      " 3 1 3 0 4 4 0 0 1 4 2 1 3 1 3 1 4 2 1 1 3 0 1 3 0 1 3 4 2 1 4 0 1 0 1 1 3\n",
      " 1 3 1 0 4 2 1 4 1 1 4 4 1 1 0 1 4 4 1 3 1 4 2 1 4 1 1 0 1 0 3 0 3 3 3 3 4\n",
      " 1 3 4 1 0 0 0 1 1 3 0 3 1 4 4 4 1 0 1 2 1 2 1 1 0 3 1 0 2 1 4 1 0 3 2 4 1\n",
      " 3 3 3 3 1 1 3 1 1 4 4 3 4 3 0 1 4 3 2 0 3 1 0 3 1 3 1 1 1 4 1 0 2 0 1 4 4\n",
      " 4 3 3 1 3 3 0 3 4 3 1 3 1 3 3 1 0 0 0 0 4 2 4 1 3 3 1 4 1 4 1 1 1 3 1 0 3\n",
      " 0 0 3 1 0 4 1 3 3 4 2 2 0 4 0 3 1 0 0 3 4 4 3 3 0 1 1 2 1 4 3 1 4 0 4 4 4\n",
      " 1 3 2 3 2 3 4 3 1 1 0 0 1 2 4 0 4 1 1 0 1 1 1 2 3 3 1 1 1 0 0 0 0 3 1 1 0\n",
      " 1 1 3 4 1 1 2 3 4 1 1 1 2 1 4 1 2 3 3 4 0 1 0 0 3 3 0 1 1 1 3 0 1 1 4 3 0\n",
      " 1 3 4 0 1 4 2 1 1 1 3 3 3 1 1 4 3 1 0 1 2 3 3 1 0 1 1 1 2 3 2 0 4 0 1 1 0\n",
      " 3 2 4 3 4 3 0 4 1 2 0 0 2 2 4 1 3 3 0 3 4 1 1 1 3 3 0 3 3 0 2 4 1 3 4 1 2\n",
      " 1 3 1 1 4 1 4 2 1 3 1 1 3 1 1 1 0 3 4 1 4 0 1 0 2 1 4 3 0 1 1 0 1 3 3 1 4\n",
      " 2 1 0 3 4 1 4 1 1 1 1 0 3 1 0 1 1 3 3 0 3 4 2 1 0 0 1 4 0 3 3 3 1 4 4 1 4\n",
      " 3 0 4 1 3 4 3 1 1 2 3 0 2 3 1 4 1 1 4 1 2 1 2 0 1 1 3 3 3 3 0 3 3 1 1 0 4\n",
      " 3 4 1 0 1 0 0 4 4 3 1 0 2 2 1 0 0 1 1 4 0 3 1 1 2 3 1 1 1 0 4 3 3 1 0 2 0\n",
      " 0 1 4 3 0 1 2 3 3 3 4 3 0 1 1 2 4 3 1 1 0 3 3 1 4 3 3 1 0 4 2 3 4 2 3 2 0\n",
      " 0 1 1 0 0 3 1 1 4 4 0 1 3 3 1 2 1 4 4 3 1 2 1 0 1 1 3 1 4 1 1 0 4 3 1 1 0\n",
      " 3 1 1 1 2 2 3 3 3 1 1 4 1 1 0 3 3 0 0 3 0 2 1 2 0 1 1 4 4 4 3 4 4 2 1 1 3\n",
      " 3 0 1 0 2 1 1 1 4 3 0 1 4 0 4 1 3 0 4 3 4 4 2 0 4 3 2 3 1 1 1 3 0 0 0 1 3\n",
      " 0 4 1 3 4 1 4 1 0 1 3 4 4 0 4 0 1 3 3 1 3 0 1 1 1 1 0 0 4 3 0 3 3 0 1 3 1\n",
      " 1 4 3 4 1 2 1 1 0 3 1 1 4 1 4 3 1 1 1 3 1 3 1 3 0 0 3 3 1 1 1 3 1 3 0 1 3\n",
      " 0 3 3 3 0 1 4 1 1 0 1 4 0 1 1 1 1 4 3 1 3 3 4 4]\n"
     ]
    }
   ],
   "source": [
    "from sklearn.metrics import pairwise_distances\n",
    "\n",
    "# build a model using n_clusters=5 option\n",
    "model=None\n",
    "# your code here\n",
    "\n",
    "model = AgglomerativeClustering(n_clusters=5, linkage=\"complete\", affinity=\"euclidean\")\n",
    "model.fit(data)\n",
    "print(\"Cluster labels:\", model.labels_)\n"
   ]
  },
  {
   "cell_type": "markdown",
   "metadata": {
    "deletable": false,
    "editable": false,
    "nbgrader": {
     "cell_type": "markdown",
     "checksum": "fa88212d918a8521a87412958a95f3ef",
     "grade": false,
     "grade_id": "cell-14da739b5647db81",
     "locked": true,
     "schema_version": 3,
     "solution": false,
     "task": false
    }
   },
   "source": [
    "#### d) Label permuation\n",
    "In clustering, the labels get assigned randomly, so the label numbering won't match the ground truth necessarily. Write a function below to find best matching label ordering based on the accuracy. Do not change the variable names. Answer the question about this section in the Peer Review. "
   ]
  },
  {
   "cell_type": "code",
   "execution_count": 34,
   "metadata": {
    "deletable": false,
    "nbgrader": {
     "cell_type": "code",
     "checksum": "f47665d2983a53c6a92c098e5070fc63",
     "grade": false,
     "grade_id": "cell-82b20e00978bc5e6",
     "locked": false,
     "schema_version": 3,
     "solution": true,
     "task": false
    }
   },
   "outputs": [],
   "source": [
    "import itertools\n",
    "\n",
    "# data = pd.read_csv('data/data.csv')\n",
    "# label = pd.read_csv('data/labels.csv')\n",
    "# data=data.drop('Unnamed: 0',axis=1)\n",
    "# label=label.drop('Unnamed: 0',axis=1)\n",
    "# model = AgglomerativeClustering(n_clusters=5, linkage=\"ward\", affinity=\"euclidean\")\n",
    "# model.fit(data)\n",
    "\n",
    "\n",
    "\n",
    "def label_permute_compare(ytdf,yp,n=5):\n",
    "    \"\"\"\n",
    "    ytdf: labels dataframe object\n",
    "    yp: clustering label prediction output\n",
    "    Returns permuted label order and accuracy. \n",
    "    Example output: (3, 4, 1, 2, 0), 0.74 \n",
    "    \"\"\"\n",
    "# your code here\n",
    "    # get an unique mapping from cancer type label to numeric, and then convert true label to numeric order\n",
    "    label_mapping = {label: i for i, label in enumerate(ytdf['Class'].unique())}\n",
    "    true_labels_order = ytdf['Class'].map(label_mapping).to_numpy()\n",
    "        \n",
    "    best_order =None\n",
    "    best_accuracy = -1\n",
    "    \n",
    "    # go thru different permutation predicted label order, and then compare with true label order\n",
    "    for perm in itertools.permutations(range(n)):\n",
    "        remapped_labels = np.array([perm[label] for label in yp])\n",
    "        accuracy = np.mean(remapped_labels == true_labels_order)\n",
    "        \n",
    "        if accuracy > best_accuracy:\n",
    "            best_accuracy = accuracy\n",
    "            best_label_order = perm\n",
    "\n",
    "    return best_label_order, best_accuracy\n",
    "\n",
    "\n"
   ]
  },
  {
   "cell_type": "code",
   "execution_count": 35,
   "metadata": {
    "deletable": false,
    "editable": false,
    "nbgrader": {
     "cell_type": "code",
     "checksum": "cf8892a7991eab729501b9f12fa11ae1",
     "grade": false,
     "grade_id": "cell-e59b3dddfdc36871",
     "locked": true,
     "schema_version": 3,
     "solution": false,
     "task": false
    }
   },
   "outputs": [
    {
     "name": "stdout",
     "output_type": "stream",
     "text": [
      "(3, 2, 4, 1, 0) 0.9313358302122348\n"
     ]
    }
   ],
   "source": [
    "labelorder, acc = label_permute_compare(label, model.labels_)\n",
    "print(labelorder, acc)"
   ]
  },
  {
   "cell_type": "markdown",
   "metadata": {
    "deletable": false,
    "editable": false,
    "nbgrader": {
     "cell_type": "markdown",
     "checksum": "246f7bd7bd4cacc06d3d8e7b0811e06b",
     "grade": false,
     "grade_id": "cell-2dee0f590af15ca1",
     "locked": true,
     "schema_version": 3,
     "solution": false,
     "task": false
    }
   },
   "source": [
    "#### e) Check confusion matrix\n",
    "Use sklearn's confusion matrix and display the results. Answer the Peer Review question about this section.  "
   ]
  },
  {
   "cell_type": "code",
   "execution_count": 29,
   "metadata": {
    "deletable": false,
    "nbgrader": {
     "cell_type": "code",
     "checksum": "7db659d69e66d44725a24b1f90796541",
     "grade": false,
     "grade_id": "cell-b7fe98331f7b544f",
     "locked": false,
     "schema_version": 3,
     "solution": true,
     "task": false
    }
   },
   "outputs": [
    {
     "data": {
      "image/png": "[encoded data removed]",
      "text/plain": [
       "<Figure size 432x288 with 2 Axes>"
      ]
     },
     "metadata": {
      "needs_background": "light"
     },
     "output_type": "display_data"
    }
   ],
   "source": [
    "# display confusion matrix here \n",
    "# your code here\n",
    "from sklearn.metrics import ConfusionMatrixDisplay\n",
    "\n",
    "best_predicted_labels_order = np.array([labelorder[label] for label in model.labels_])\n",
    "label_mapping = {label: i for i, label in enumerate(label['Class'].unique())}\n",
    "true_labels_order = label['Class'].map(label_mapping).to_numpy()\n",
    "\n",
    "cm = confusion_matrix(true_labels_order, best_predicted_labels_order)\n",
    "class_names = sorted(label['Class'].unique())\n",
    "disp = ConfusionMatrixDisplay(confusion_matrix=cm,\n",
    "                              display_labels=class_names)\n",
    "\n",
    "disp.plot(cmap='viridis', xticks_rotation='vertical')\n",
    "plt.title(f\"Confusion Matrix Display using linkage='complete', metrics='euclidean', accuracy={acc}\")\n",
    "plt.show()\n",
    "\n",
    "\n"
   ]
  },
  {
   "cell_type": "markdown",
   "metadata": {
    "deletable": false,
    "editable": false,
    "nbgrader": {
     "cell_type": "markdown",
     "checksum": "49b995d1748051a814f09ae8878096cd",
     "grade": false,
     "grade_id": "cell-b51181ebab84b037",
     "locked": true,
     "schema_version": 3,
     "solution": false,
     "task": false
    }
   },
   "source": [
    "#### f) Change linkage method and distance metric. Which ones lead the best performance? Print out the accuracy and confusion matrix for the best model.\n",
    "<br> Answer the Peer Review questions about this section. "
   ]
  },
  {
   "cell_type": "code",
   "execution_count": 15,
   "metadata": {
    "deletable": false,
    "nbgrader": {
     "cell_type": "code",
     "checksum": "a13e0521cb941ebbe96ef06b0f48bf8c",
     "grade": false,
     "grade_id": "cell-03953f78e5852c9a",
     "locked": false,
     "schema_version": 3,
     "solution": true,
     "task": false
    }
   },
   "outputs": [
    {
     "name": "stdout",
     "output_type": "stream",
     "text": [
      "linkage:ward, \tmetric:euclidean, \taccuracy: 0.9950062421972534\n",
      "linkage:complete, \tmetric:euclidean, \taccuracy: 0.9313358302122348\n",
      "linkage:complete, \tmetric:manhattan, \taccuracy: 0.7228464419475655\n",
      "linkage:complete, \tmetric:cosine, \taccuracy: 0.7403245942571786\n",
      "linkage:complete, \tmetric:l1, \taccuracy: 0.7228464419475655\n",
      "linkage:complete, \tmetric:l2, \taccuracy: 0.9313358302122348\n",
      "linkage:complete, \tmetric:correlation, \taccuracy: 0.9300873907615481\n",
      "linkage:average, \tmetric:euclidean, \taccuracy: 0.3645443196004994\n",
      "linkage:average, \tmetric:manhattan, \taccuracy: 0.365792759051186\n",
      "linkage:average, \tmetric:cosine, \taccuracy: 0.3645443196004994\n",
      "linkage:average, \tmetric:l1, \taccuracy: 0.365792759051186\n",
      "linkage:average, \tmetric:l2, \taccuracy: 0.3645443196004994\n",
      "linkage:average, \tmetric:correlation, \taccuracy: 0.5530586766541823\n",
      "linkage:single, \tmetric:euclidean, \taccuracy: 0.3757802746566791\n",
      "linkage:single, \tmetric:manhattan, \taccuracy: 0.37453183520599254\n",
      "linkage:single, \tmetric:cosine, \taccuracy: 0.3757802746566791\n",
      "linkage:single, \tmetric:l1, \taccuracy: 0.37453183520599254\n",
      "linkage:single, \tmetric:l2, \taccuracy: 0.3757802746566791\n",
      "linkage:single, \tmetric:correlation, \taccuracy: 0.3757802746566791\n",
      "---------------\n",
      " Best AgglomerativeClustering linkage:ward, metric:euclidean, accuracy: 0.9950062421972534\n"
     ]
    },
    {
     "data": {
      "image/png": "[encoded data removed]",
      "text/plain": [
       "<Figure size 432x288 with 2 Axes>"
      ]
     },
     "metadata": {
      "needs_background": "light"
     },
     "output_type": "display_data"
    },
    {
     "name": "stdout",
     "output_type": "stream",
     "text": [
      "Normalized Confusion Matrix (3 decimal places):\n",
      "[['1.000' '0.000' '0.000' '0.000' '0.000']\n",
      " ['0.000' '0.986' '0.014' '0.000' '0.000']\n",
      " ['0.000' '0.003' '0.997' '0.000' '0.000']\n",
      " ['0.000' '0.000' '0.000' '1.000' '0.000']\n",
      " ['0.000' '0.013' '0.000' '0.000' '0.987']]\n"
     ]
    }
   ],
   "source": [
    "# programmatically evaluate which linkage method and distance metric lead to the best performance\n",
    "# your code here\n",
    "# after much experimentation, here are list of combinations allowed from the scikit-learn\n",
    "# for example, ward linkage can only accept euclidean distance metrics\n",
    "from sklearn.metrics import ConfusionMatrixDisplay\n",
    "options = [\n",
    "    # Ward (only works with Euclidean)\n",
    "    ('ward', 'euclidean'),\n",
    "    \n",
    "    # Complete linkage\n",
    "    ('complete', 'euclidean'), ('complete', 'manhattan'),\n",
    "    ('complete', 'cosine'),('complete', 'l1'), ('complete', 'l2'), ('complete', 'correlation'),\n",
    "    \n",
    "    # Average linkage\n",
    "    ('average', 'euclidean'), ('average', 'manhattan'), ('average', 'cosine'),\n",
    "    ('average', 'l1'), ('average', 'l2'), ('average', 'correlation'),\n",
    "    \n",
    "    # Single linkage\n",
    "    ('single', 'euclidean'), ('single', 'manhattan'), ('single', 'cosine'),\n",
    "    ('single', 'l1'), ('single', 'l2'), ('single', 'correlation'),\n",
    "]\n",
    "\n",
    "best_linkage_method = None\n",
    "best_distance_metric = None\n",
    "best_accuracy = -1\n",
    "best_predicted_labels_order = None\n",
    "\n",
    "for linkage_method, distance_metric in options:\n",
    "        \n",
    "        model = AgglomerativeClustering(n_clusters=5, linkage=linkage_method, affinity=distance_metric)\n",
    "        model.fit(data)\n",
    "        labelorder, accuracy = label_permute_compare(label, model.labels_)\n",
    "        print(f\"linkage:{linkage_method}, \\tmetric:{distance_metric}, \\taccuracy: {accuracy}\")\n",
    "        if accuracy > best_accuracy:\n",
    "            best_linkage_method = linkage_method\n",
    "            best_distance_metric = distance_metric\n",
    "            best_accuracy = accuracy\n",
    "            best_predicted_labels_order = np.array([labelorder[label] for label in model.labels_])\n",
    "        \n",
    "print(\"---------------\")\n",
    "print(f\" Best AgglomerativeClustering linkage:{best_linkage_method}, metric:{best_distance_metric}, accuracy: {best_accuracy}\")        \n",
    "label_mapping = {label: i for i, label in enumerate(label['Class'].unique())}\n",
    "true_labels_order = label['Class'].map(label_mapping).to_numpy()\n",
    "\n",
    "cm = confusion_matrix(true_labels_order, best_predicted_labels_order)\n",
    "class_names = sorted(label['Class'].unique())\n",
    "disp = ConfusionMatrixDisplay(confusion_matrix=cm,\n",
    "                              display_labels=class_names)\n",
    "\n",
    "disp.plot(cmap='viridis', xticks_rotation='vertical')\n",
    "plt.title('Confusion Matrix Display')\n",
    "plt.show()\n",
    "\n",
    "cm = confusion_matrix(true_labels_order, best_predicted_labels_order)\n",
    "cm_normalized = cm.astype('float') / cm.sum(axis=1)[:, np.newaxis]\n",
    "cm_formatted = np.array([[\"{:.3f}\".format(val) for val in row] for row in cm_normalized])\n",
    "print(\"Normalized Confusion Matrix (3 decimal places):\")\n",
    "print(cm_formatted)\n"
   ]
  },
  {
   "cell_type": "markdown",
   "metadata": {
    "deletable": false,
    "editable": false,
    "nbgrader": {
     "cell_type": "markdown",
     "checksum": "9eeef63c833a862a824bd957b4569d81",
     "grade": false,
     "grade_id": "cell-6cd5993178e6f606",
     "locked": true,
     "schema_version": 3,
     "solution": false,
     "task": false
    }
   },
   "source": [
    "### C. What about k-means clustering?\n",
    "Can we apply kmeans clustering on this data? Which clustering methods give a better performance? Is kmeans faster or slower?"
   ]
  },
  {
   "cell_type": "code",
   "execution_count": 32,
   "metadata": {
    "deletable": false,
    "nbgrader": {
     "cell_type": "code",
     "checksum": "ff50d6cc5b9fbf0fface11dad35bfaba",
     "grade": false,
     "grade_id": "cell-2f77201b65ef6a7a",
     "locked": false,
     "schema_version": 3,
     "solution": true,
     "task": false
    }
   },
   "outputs": [
    {
     "name": "stdout",
     "output_type": "stream",
     "text": [
      "KMeans clustering accuracy: 0.9925093632958801\n"
     ]
    },
    {
     "data": {
      "image/png": "[encoded data removed]",
      "text/plain": [
       "<Figure size 432x288 with 2 Axes>"
      ]
     },
     "metadata": {
      "needs_background": "light"
     },
     "output_type": "display_data"
    }
   ],
   "source": [
    "# try to apply kmeans clustering on this data\n",
    "# time kmeans to compare to hierarchical clustering \n",
    "# your code here\n",
    "from sklearn.cluster import KMeans\n",
    "from sklearn.metrics import ConfusionMatrixDisplay\n",
    "import sklearn\n",
    "# print(sklearn.__version__)  \n",
    "model = KMeans(n_clusters=5, init=\"k-means++\").fit(data)\n",
    "kmean_labelorder, kmean_accuracy = label_permute_compare(label, model.labels_)\n",
    "print(f\"KMeans clustering accuracy: {kmean_accuracy}\")        \n",
    "\n",
    "\n",
    "predicted_labels_order = np.array([kmean_labelorder[label] for label in model.labels_])\n",
    "label_mapping = {label: i for i, label in enumerate(label['Class'].unique())}\n",
    "true_labels_order = label['Class'].map(label_mapping).to_numpy()\n",
    "\n",
    "cm = confusion_matrix(true_labels_order, true_labels_order)\n",
    "class_names = sorted(label['Class'].unique())\n",
    "disp = ConfusionMatrixDisplay(confusion_matrix=cm,\n",
    "                              display_labels=class_names)\n",
    "\n",
    "disp.plot(cmap='viridis', xticks_rotation='vertical')\n",
    "plt.title('Confusion Matrix Display')\n",
    "plt.show()\n"
   ]
  },
  {
   "cell_type": "code",
   "execution_count": null,
   "metadata": {},
   "outputs": [],
   "source": []
  }
 ],
 "metadata": {
  "colab": {
   "name": "HW2-clustering.ipynb",
   "provenance": []
  },
  "kernelspec": {
   "display_name": "Python 3",
   "language": "python",
   "name": "python3"
  },
  "language_info": {
   "codemirror_mode": {
    "name": "ipython",
    "version": 3
   },
   "file_extension": ".py",
   "mimetype": "text/x-python",
   "name": "python",
   "nbconvert_exporter": "python",
   "pygments_lexer": "ipython3",
   "version": "3.7.6"
  }
 },
 "nbformat": 4,
 "nbformat_minor": 5
}
