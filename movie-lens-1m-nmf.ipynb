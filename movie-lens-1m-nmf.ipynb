{
 "cells": [
  {
   "cell_type": "markdown",
   "id": "14f59cbb",
   "metadata": {
    "papermill": {
     "duration": 0.004012,
     "end_time": "2025-04-26T20:52:09.160068",
     "exception": false,
     "start_time": "2025-04-26T20:52:09.156056",
     "status": "completed"
    },
    "tags": []
   },
   "source": [
    "\n",
    "# MovieLense Rating Data\n",
    "<p>CSCA-5632 Unsupervised Algorithms in Machine Learning</p>\n",
    "<p>University of Colorado Boulder</p>\n",
    "<p>@author alme9155@colorado.edu</p>\n",
    "<hr/>\n",
    "\n",
    "<h2>I. Project Overview:</h2>\n",
    "<h3>I.i.Objectives</h3>\n",
    "<h3>Use Matrix factorization technique(s) and predict the missing ratings from the test data. Measure the RMSE.</h3> \n",
    "\n",
    "This notebook includes the following:\n",
    "* Brief EDA procedures\n",
    "* Matrix factorization model building and training\n",
    "* Model predictions and RMSE results\n",
    "* Prediction results comparison with Supervised Learning\n",
    "* Improvement from simple baseline.\n",
    "\n",
    "<h3>I.ii. Project Description</h3>\n",
    "This project will use a MovieLense rating dataset to run matrix factorization model building and return prediction results with root mean square error (RMSE). \n",
    "<ul>\n",
    "<li>Data source: <a url=\"https://www.kaggle.com/odedgolden/movielens-1m-dataset\">https://www.kaggle.com/odedgolden/movielens-1m-dataset</a></li>\n",
    "<li>MovieLens 1M</li>\n",
    "</ul>"
   ]
  },
  {
   "cell_type": "code",
   "execution_count": 1,
   "id": "f82857ce",
   "metadata": {
    "_cell_guid": "b1076dfc-b9ad-4769-8c92-a6c4dae69d19",
    "_uuid": "8f2839f25d086af736a60e9eeb907d3b93b6e0e5",
    "execution": {
     "iopub.execute_input": "2025-04-26T20:52:09.167542Z",
     "iopub.status.busy": "2025-04-26T20:52:09.167255Z",
     "iopub.status.idle": "2025-04-26T20:52:10.710451Z",
     "shell.execute_reply": "2025-04-26T20:52:10.709620Z"
    },
    "papermill": {
     "duration": 1.548526,
     "end_time": "2025-04-26T20:52:10.711819",
     "exception": false,
     "start_time": "2025-04-26T20:52:09.163293",
     "status": "completed"
    },
    "tags": []
   },
   "outputs": [
    {
     "name": "stdout",
     "output_type": "stream",
     "text": [
      "/kaggle/input/movies-len-1m/movies.csv\n",
      "/kaggle/input/movies-len-1m/users.csv\n",
      "/kaggle/input/movies-len-1m/train.csv\n",
      "/kaggle/input/movies-len-1m/test.csv\n"
     ]
    }
   ],
   "source": [
    "# This Python 3 environment comes with many helpful analytics libraries installed\n",
    "# It is defined by the kaggle/python Docker image: https://github.com/kaggle/docker-python\n",
    "# For example, here's several helpful packages to load\n",
    "\n",
    "import numpy as np # linear algebra\n",
    "import pandas as pd # data processing, CSV file I/O (e.g. pd.read_csv)\n",
    "\n",
    "# Input data files are available in the read-only \"../input/\" directory\n",
    "# For example, running this (by clicking run or pressing Shift+Enter) will list all files under the input directory\n",
    "\n",
    "import os\n",
    "for dirname, _, filenames in os.walk('/kaggle/input'):\n",
    "    for filename in filenames:\n",
    "        print(os.path.join(dirname, filename))\n",
    "\n",
    "# You can write up to 20GB to the current directory (/kaggle/working/) that gets preserved as output when you create a version using \"Save & Run All\" \n",
    "# You can also write temporary files to /kaggle/temp/, but they won't be saved outside of the current session"
   ]
  },
  {
   "cell_type": "markdown",
   "id": "764d0f4c",
   "metadata": {
    "papermill": {
     "duration": 0.003008,
     "end_time": "2025-04-26T20:52:10.718346",
     "exception": false,
     "start_time": "2025-04-26T20:52:10.715338",
     "status": "completed"
    },
    "tags": []
   },
   "source": [
    "<h2>II. Exploratory Data Analysis</h2>\n",
    "\n",
    "<h3>II.i.Loading the data from class CSV files</h3>\n",
    "This notebook includes CSV files from week3 assignment. \n",
    "\n",
    "<h3>II.ii.Exploring and understanding the data</h3>\n",
    "Explore dataset structure."
   ]
  },
  {
   "cell_type": "code",
   "execution_count": 2,
   "id": "11868e15",
   "metadata": {
    "execution": {
     "iopub.execute_input": "2025-04-26T20:52:10.725374Z",
     "iopub.status.busy": "2025-04-26T20:52:10.725077Z",
     "iopub.status.idle": "2025-04-26T20:52:12.809496Z",
     "shell.execute_reply": "2025-04-26T20:52:12.808512Z"
    },
    "papermill": {
     "duration": 2.089509,
     "end_time": "2025-04-26T20:52:12.810951",
     "exception": false,
     "start_time": "2025-04-26T20:52:10.721442",
     "status": "completed"
    },
    "tags": []
   },
   "outputs": [
    {
     "name": "stdout",
     "output_type": "stream",
     "text": [
      "Data loaded successfully.\n",
      "\n",
      "Training Data Info:\n",
      "--------------------------\n",
      "<class 'pandas.core.frame.DataFrame'>\n",
      "RangeIndex: 700146 entries, 0 to 700145\n",
      "Data columns (total 3 columns):\n",
      " #   Column  Non-Null Count   Dtype\n",
      "---  ------  --------------   -----\n",
      " 0   uID     700146 non-null  int64\n",
      " 1   mID     700146 non-null  int64\n",
      " 2   rating  700146 non-null  int64\n",
      "dtypes: int64(3)\n",
      "memory usage: 16.0 MB\n",
      "None\n",
      "\n",
      "Testing Data Info:\n",
      "--------------------------\n",
      "<class 'pandas.core.frame.DataFrame'>\n",
      "RangeIndex: 300063 entries, 0 to 300062\n",
      "Data columns (total 3 columns):\n",
      " #   Column  Non-Null Count   Dtype\n",
      "---  ------  --------------   -----\n",
      " 0   uID     300063 non-null  int64\n",
      " 1   mID     300063 non-null  int64\n",
      " 2   rating  300063 non-null  int64\n",
      "dtypes: int64(3)\n",
      "memory usage: 6.9 MB\n",
      "None\n",
      "\n",
      "First five rows of training data:\n",
      "--------------------------\n",
      "    uID   mID  rating\n",
      "0   744  1210       5\n",
      "1  3040  1584       4\n",
      "2  1451  1293       5\n",
      "3  5455  3176       2\n",
      "4  2507  3074       5\n",
      "\n",
      "First five rows of testing data:\n",
      "--------------------------\n",
      "    uID   mID  rating\n",
      "0  2233   440       4\n",
      "1  4274   587       5\n",
      "2  2498   454       3\n",
      "3  2868  2336       5\n",
      "4  1636  2686       5\n",
      "\n",
      "Missing values in Training Set:\n",
      "--------------------------\n",
      "uID       0\n",
      "mID       0\n",
      "rating    0\n",
      "dtype: int64\n",
      "\n",
      "Missing Values in Test Set:\n",
      "--------------------------\n",
      "uID       0\n",
      "mID       0\n",
      "rating    0\n",
      "dtype: int64\n",
      "Resys class loaded.\n"
     ]
    }
   ],
   "source": [
    "import pandas as pd\n",
    "import matplotlib.pyplot as plt\n",
    "import numpy as np\n",
    "import time\n",
    "from sklearn.model_selection import train_test_split\n",
    "from scipy.sparse import coo_matrix, csr_matrix\n",
    "from scipy.spatial.distance import jaccard, cosine \n",
    "from pytest import approx\n",
    "# EDA process\n",
    "# 1. load the dataset\n",
    "# 2. inspect the data\n",
    "\n",
    "## loading the data\n",
    "MV_users = pd.read_csv('/kaggle/input/movies-len-1m//users.csv')\n",
    "MV_movies = pd.read_csv('/kaggle/input/movies-len-1m//movies.csv')\n",
    "train = pd.read_csv('/kaggle/input/movies-len-1m//train.csv')\n",
    "test = pd.read_csv('/kaggle/input/movies-len-1m//test.csv')\n",
    "print(f\"Data loaded successfully.\")\n",
    "\n",
    "print(f\"\\nTraining Data Info:\")\n",
    "print(\"--------------------------\")\n",
    "print(train.info())\n",
    "print(f\"\\nTesting Data Info:\")\n",
    "print(\"--------------------------\")    \n",
    "print(test.info())\n",
    "\n",
    "print(f\"\\nFirst five rows of training data:\")\n",
    "print(\"--------------------------\")    \n",
    "print(train.head())\n",
    "print(f\"\\nFirst five rows of testing data:\")\n",
    "print(\"--------------------------\")    \n",
    "print(test.head())\n",
    "\n",
    "print(f\"\\nMissing values in Training Set:\")\n",
    "print(\"--------------------------\")    \n",
    "print(train.isnull().sum())\n",
    "print(f\"\\nMissing Values in Test Set:\")\n",
    "print(\"--------------------------\")    \n",
    "print(test.isnull().sum())\n",
    "\n",
    "# print(\"\\nArticle Categories\")\n",
    "# print(\"--------------------------\")    \n",
    "# unique_categories = train['Category'].unique()\n",
    "# print(f\"Unique Article categories:{unique_categories}\")\n",
    "# print(f\"Number of categories:{len(unique_categories)}\")\n",
    "\n",
    "from collections import namedtuple\n",
    "Data = namedtuple('Data', ['users','movies','train','test'])\n",
    "data = Data(MV_users, MV_movies, train, test)\n",
    "\n",
    "print(\"Resys class loaded.\")"
   ]
  },
  {
   "cell_type": "markdown",
   "id": "d4205669",
   "metadata": {
    "papermill": {
     "duration": 0.003176,
     "end_time": "2025-04-26T20:52:12.817708",
     "exception": false,
     "start_time": "2025-04-26T20:52:12.814532",
     "status": "completed"
    },
    "tags": []
   },
   "source": [
    "<h3>II.iii.Create sample train and test dataset for quick debugging</h3>"
   ]
  },
  {
   "cell_type": "code",
   "execution_count": 3,
   "id": "4816a7f5",
   "metadata": {
    "execution": {
     "iopub.execute_input": "2025-04-26T20:52:12.825012Z",
     "iopub.status.busy": "2025-04-26T20:52:12.824785Z",
     "iopub.status.idle": "2025-04-26T20:52:12.836404Z",
     "shell.execute_reply": "2025-04-26T20:52:12.835762Z"
    },
    "papermill": {
     "duration": 0.016557,
     "end_time": "2025-04-26T20:52:12.837401",
     "exception": false,
     "start_time": "2025-04-26T20:52:12.820844",
     "status": "completed"
    },
    "tags": []
   },
   "outputs": [
    {
     "name": "stdout",
     "output_type": "stream",
     "text": [
      "Sample train and test dataset created successfully.\n"
     ]
    }
   ],
   "source": [
    "# Creating Sample train data\n",
    "np.random.seed(42)\n",
    "sample_train = train[:30000]\n",
    "sample_test = test[:30000]\n",
    "sample_MV_users = MV_users[(MV_users.uID.isin(sample_train.uID)) | (MV_users.uID.isin(sample_test.uID))]\n",
    "sample_MV_movies = MV_movies[(MV_movies.mID.isin(sample_train.mID)) | (MV_movies.mID.isin(sample_test.mID))]\n",
    "sample_data = Data(sample_MV_users, sample_MV_movies, sample_train, sample_test)\n",
    "print(f\"Sample train and test dataset created successfully.\")"
   ]
  },
  {
   "cell_type": "markdown",
   "id": "431dac8c",
   "metadata": {
    "papermill": {
     "duration": 0.002956,
     "end_time": "2025-04-26T20:52:12.843560",
     "exception": false,
     "start_time": "2025-04-26T20:52:12.840604",
     "status": "completed"
    },
    "tags": []
   },
   "source": [
    "<h2>III. Enhance RecSys class with matrix factorization method</h2>\n",
    "\n",
    "Enhance Recommendation System class from Week 3 assignment with new method to predict missing ratings from the the test data."
   ]
  },
  {
   "cell_type": "code",
   "execution_count": 4,
   "id": "d5191c61",
   "metadata": {
    "execution": {
     "iopub.execute_input": "2025-04-26T20:52:12.850903Z",
     "iopub.status.busy": "2025-04-26T20:52:12.850690Z",
     "iopub.status.idle": "2025-04-26T20:52:12.864035Z",
     "shell.execute_reply": "2025-04-26T20:52:12.863440Z"
    },
    "papermill": {
     "duration": 0.01833,
     "end_time": "2025-04-26T20:52:12.864994",
     "exception": false,
     "start_time": "2025-04-26T20:52:12.846664",
     "status": "completed"
    },
    "tags": []
   },
   "outputs": [
    {
     "name": "stdout",
     "output_type": "stream",
     "text": [
      "Enhanced RecSys with predict_from_matrix_factorization loaded.\n"
     ]
    }
   ],
   "source": [
    "from scipy.spatial.distance import pdist, squareform\n",
    "from sklearn.preprocessing import StandardScaler\n",
    "from sklearn.metrics.pairwise import cosine_similarity, pairwise_distances\n",
    "\n",
    "class RecSys():\n",
    "    def __init__(self,data):\n",
    "        self.data=data\n",
    "        self.allusers = list(self.data.users['uID'])\n",
    "        self.allmovies = list(self.data.movies['mID'])\n",
    "        self.genres = list(self.data.movies.columns.drop(['mID', 'title', 'year']))\n",
    "        self.mid2idx = dict(zip(self.data.movies.mID,list(range(len(self.data.movies)))))\n",
    "        self.uid2idx = dict(zip(self.data.users.uID,list(range(len(self.data.users)))))\n",
    "        self.Mr=self.rating_matrix()\n",
    "        self.Mm=None \n",
    "        self.sim=np.zeros((len(self.allmovies),len(self.allmovies)))\n",
    "        \n",
    "    def rating_matrix(self):\n",
    "        \"\"\"\n",
    "        Convert the rating matrix to numpy array of shape (#allusers,#allmovies)\n",
    "        \"\"\"\n",
    "        ind_movie = [self.mid2idx[x] for x in self.data.train.mID] \n",
    "        ind_user = [self.uid2idx[x] for x in self.data.train.uID]\n",
    "        rating_train = list(self.data.train.rating)\n",
    "        \n",
    "        return np.array(coo_matrix((rating_train, (ind_user, ind_movie)), shape=(len(self.allusers), len(self.allmovies))).toarray())\n",
    "\n",
    "\n",
    "    def predict_everything_to_3(self):\n",
    "        \"\"\"\n",
    "        Predict everything to 3 for the test data\n",
    "        \"\"\"\n",
    "        # Generate an array with 3s against all entries in test dataset\n",
    "        # your code here\n",
    "        return np.full(len(self.data.test), 3.00)\n",
    "        \n",
    "        \n",
    "    def predict_to_user_average(self):\n",
    "        \"\"\"\n",
    "        Predict to average rating for the user.\n",
    "        Returns numpy array of shape (#users,)\n",
    "        \"\"\"\n",
    "        # Generate an array as follows:\n",
    "        # 1. Calculate all avg user rating as sum of ratings of user across all movies/number of movies whose rating > 0\n",
    "        # 2. Return the average rating of users in test data\n",
    "        # your code here\n",
    "        \n",
    "        user_average_ratings = self.data.train[self.data.train['rating'] > 0].groupby('uID')['rating'].mean()\n",
    "        predicted_rating = self.data.test['uID'].map(user_average_ratings)\n",
    "        return predicted_rating\n",
    "    \n",
    "    def predict_from_sim(self,uid,mid):\n",
    "        \"\"\"\n",
    "        Predict a user rating on a movie given userID and movieID\n",
    "        \"\"\"\n",
    "        # Predict user rating as follows:\n",
    "        # 1. Get entry of user id in rating matrix\n",
    "        # 2. Get entry of movie id in sim matrix\n",
    "        # 3. Employ 1 and 2 to predict user rating of the movie\n",
    "        # your code here\n",
    "        \n",
    "        # using the hint given in the resource material:\n",
    "        # . ...the sum of similarity scores for all the movies \n",
    "        # which were rated by the user-group (i.e. User_rating !=0)\n",
    "        \n",
    "        user_idx = self.uid2idx[uid]\n",
    "        movie_idx = self.mid2idx[mid]\n",
    "        \n",
    "        user_ratings = self.Mr[user_idx]\n",
    "        movie_similarities = self.sim[movie_idx]\n",
    "        non_zero_ratings = user_ratings[user_ratings != 0]\n",
    "        \n",
    "        non_zero_similarities = movie_similarities[user_ratings != 0]\n",
    "\n",
    "        if np.sum(non_zero_similarities) > 0:\n",
    "            weighted_sum = np.dot(non_zero_ratings, non_zero_similarities)\n",
    "            similarity_sum = np.sum(non_zero_similarities)\n",
    "            predicted_rating = weighted_sum / similarity_sum\n",
    "        else:\n",
    "            if len(non_zero_ratings) > 0:\n",
    "                predicted_rating = np.mean(non_zero_ratings) \n",
    "            else:\n",
    "                predicted_rating = 3.0            \n",
    "        return predicted_rating\n",
    "    \n",
    "    \n",
    "    \n",
    "    def predict(self):\n",
    "        \"\"\"\n",
    "        Predict ratings in the test data. Returns predicted rating in a numpy array of size (# of rows in testdata,)\n",
    "        \"\"\"\n",
    "        # your code here\n",
    "        # no normalization needed because predict_from_sim already filter out zero values\n",
    "        predicted_ratings = []\n",
    "        for _, row in self.data.test.iterrows():\n",
    "            predicted_result_from_sim = self.predict_from_sim(row['uID'] , row['mID'])\n",
    "            predicted_ratings.append(predicted_result_from_sim)\n",
    "            \n",
    "            #user_avg = self.Mr[self.uid2idx[uid]].mean() \n",
    "            #normalized_predicted_rating = predicted_result_from_sim - user_avg\n",
    "            #predicted_ratings.append(normalized_predicted_rating)            \n",
    "        return np.array(predicted_ratings)\n",
    "        \n",
    "    \n",
    "    def rmse(self,yp):\n",
    "        yp[np.isnan(yp)]=3 #In case there is nan values in prediction, it will impute to 3.\n",
    "        yt=np.array(self.data.test.rating)\n",
    "        return np.sqrt(((yt-yp)**2).mean())\n",
    "\n",
    "\n",
    "    def predict_from_matrix_factorization(self, model):\n",
    "        \"\"\"\n",
    "        Predict ratings for the test set using matrix factorization model\n",
    "        \n",
    "        Parameters:\n",
    "        model: A matrix factorization model \n",
    "        \n",
    "        Returns:\n",
    "        predicted_ratings: A numpy array of predicted ratings for the test set.\n",
    "        \"\"\"\n",
    "        # Fit the model on the training rating matrix\n",
    "        Mr = self.Mr\n",
    "        user_matrix = model.fit_transform(Mr)      # Matrix (#users, #components)\n",
    "        item_matrix = model.components_            # Matrix (#components, #movies)\n",
    "\n",
    "        # Predict the full reconstructed ratings\n",
    "        Mr_pred = np.dot(user_matrix, item_matrix)\n",
    "        \n",
    "        mean_rating = 3.0\n",
    "        if self.data.train['rating'].size > 0:\n",
    "            mean_rating = self.data.train['rating'].mean() \n",
    "\n",
    "        predicted_ratings = []\n",
    "        for idx, row in self.data.test.iterrows():\n",
    "            uid = row['uID']\n",
    "            mid = row['mID']\n",
    "\n",
    "            # Check if user and movie exist in training data\n",
    "            yp = mean_rating\n",
    "            if uid in self.uid2idx and mid in self.mid2idx:\n",
    "                user_idx = self.uid2idx[uid]\n",
    "                movie_idx = self.mid2idx[mid]\n",
    "                yp = Mr_pred[user_idx, movie_idx]\n",
    "                yp = np.clip(yp, 1, 5)\n",
    "\n",
    "            predicted_ratings.append(yp)\n",
    "        return np.array(predicted_ratings)\n",
    "\n",
    "print(f\"Enhanced RecSys with predict_from_matrix_factorization loaded.\")"
   ]
  },
  {
   "cell_type": "code",
   "execution_count": 5,
   "id": "5d643257",
   "metadata": {
    "execution": {
     "iopub.execute_input": "2025-04-26T20:52:12.872312Z",
     "iopub.status.busy": "2025-04-26T20:52:12.872108Z",
     "iopub.status.idle": "2025-04-26T20:52:12.881899Z",
     "shell.execute_reply": "2025-04-26T20:52:12.881219Z"
    },
    "papermill": {
     "duration": 0.014678,
     "end_time": "2025-04-26T20:52:12.882912",
     "exception": false,
     "start_time": "2025-04-26T20:52:12.868234",
     "status": "completed"
    },
    "tags": []
   },
   "outputs": [
    {
     "name": "stdout",
     "output_type": "stream",
     "text": [
      "Similiarity measure loaded.\n"
     ]
    }
   ],
   "source": [
    "# Content Based filtering and Collaborative filtering\n",
    "class ContentBased(RecSys):\n",
    "    def __init__(self,data):\n",
    "        super().__init__(data)\n",
    "        self.data=data\n",
    "        self.Mm = self.calc_movie_feature_matrix()  \n",
    "        \n",
    "    def calc_movie_feature_matrix(self):\n",
    "        \"\"\"\n",
    "        Create movie feature matrix in a numpy array of shape (#allmovies, #genres) \n",
    "        \"\"\"\n",
    "        # your code here\n",
    "        movie_feature_matrix = self.data.movies[self.genres].values\n",
    "        return csr_matrix(movie_feature_matrix)\n",
    "    \n",
    "    \n",
    "    def calc_item_item_similarity(self):\n",
    "        \"\"\"\n",
    "        Create item-item similarity using Jaccard similarity\n",
    "        \"\"\"\n",
    "        # Update the sim matrix by calculating item-item similarity using Jaccard similarity\n",
    "        # Jaccard Similarity: J(A, B) = |A∩B| / |A∪B| \n",
    "        # your code here\n",
    "        # using functions in the scipy.spatial.distance to speed up calculation\n",
    "        # jaccard similiarity = 1 - jaccard_distance \n",
    "        jaccard_distances = pdist(self.Mm.toarray(), 'jaccard')  \n",
    "        self.sim = 1 - squareform(jaccard_distances)\n",
    "        \n",
    "                \n",
    "class Collaborative(RecSys):            \n",
    "    def calc_item_item_similarity(self, simfunction, *X):  \n",
    "        \"\"\"\n",
    "        Create item-item similarity using similarity function. \n",
    "        X is an optional transformed matrix of Mr\n",
    "        \"\"\"    \n",
    "        # General function that calculates item-item similarity based on the sim function and data inputed\n",
    "        if len(X)==0:\n",
    "            self.sim = simfunction()            \n",
    "        else:\n",
    "            self.sim = simfunction(X[0]) # *X passes in a tuple format of (X,), to X[0] will be the actual transformed matrix\n",
    "            \n",
    "    def cossim(self):    \n",
    "        \"\"\"\n",
    "        Calculates item-item similarity for all pairs of items using cosine similarity (values from 0 to 1) on utility matrix\n",
    "        Returns a cosine similarity matrix of size (#all movies, #all movies)\n",
    "        \"\"\"\n",
    "        # Return a sim matrix by calculating item-item similarity for all pairs of items using Jaccard similarity\n",
    "        # Cosine Similarity: C(A, B) = (A.B) / (||A||.||B||) \n",
    "        # your code here\n",
    "        # Using the hint:\n",
    "        #  \"Impute the unrated entries in self.Mr to the user's average rating\n",
    "        #.     then subtract by the user mean, call this matrix X.\"\n",
    "        \n",
    "        user_means = np.nanmean(np.where(self.Mr != 0, self.Mr, np.nan), axis=1, keepdims=True)\n",
    "        Mr_imputed = np.where((self.Mr == 0), user_means, self.Mr)          \n",
    "        Xr = Mr_imputed - user_means\n",
    "        \n",
    "        Xr = np.nan_to_num(Xr, nan=0.0)        \n",
    "        Xr_sparse = csr_matrix(Xr.T)\n",
    "        self.sim = 0.5 * (1+cosine_similarity(Xr_sparse))\n",
    "        np.fill_diagonal(self.sim, 1)      \n",
    "        Xr = Mr_imputed - user_means \n",
    "        if np.isnan(Xr).any():\n",
    "            Xr = np.nan_to_num(Xr)\n",
    "\n",
    "        num_items = Xr.shape[1]\n",
    "        self.sim = np.zeros((num_items, num_items))\n",
    "        for i in range(num_items):\n",
    "            for j in range(i, num_items):\n",
    "                if i == j:\n",
    "                    self.sim[i, j] = 1\n",
    "                else:\n",
    "                    dist = cosine(self.Mr[:, i], self.Mr[:, j])\n",
    "                    self.sim[i, j] = 1 - dist\n",
    "                    self.sim[j, i] = 1 - dist\n",
    "        self.sim = np.clip(self.sim, 0, 1)\n",
    "        return self.sim\n",
    "\n",
    "        \n",
    "    def jacsim(self,Xr):\n",
    "        \"\"\"\n",
    "        Calculates item-item similarity for all pairs of items using jaccard similarity (values from 0 to 1)\n",
    "        Xr is the transformed rating matrix.\n",
    "        \"\"\"    \n",
    "        # Return a sim matrix by calculating item-item similarity for all pairs of items using Jaccard similarity\n",
    "        # Jaccard Similarity: J(A, B) = |A∩B| / |A∪B| \n",
    "        # your code here\n",
    "        # ref: https://docs.scipy.org/doc/scipy-1.12.0/reference/generated/scipy.spatial.distance.pdist.html\n",
    "        Xr = csr_matrix(Xr)\n",
    "        \n",
    "        Xr = (Xr != 0).astype(int)\n",
    "        jaccard_distances = pairwise_distances(Xr.T.toarray(), metric='jaccard')\n",
    "        self.sim = 1 - jaccard_distances\n",
    "        np.fill_diagonal(self.sim, 1)\n",
    "        self.sim = np.clip(self.sim, 0, 1)\n",
    "        return self.sim\n",
    "\n",
    "print(f\"Similiarity measure loaded.\")"
   ]
  },
  {
   "cell_type": "markdown",
   "id": "9e85f205",
   "metadata": {
    "papermill": {
     "duration": 0.003052,
     "end_time": "2025-04-26T20:52:12.889152",
     "exception": false,
     "start_time": "2025-04-26T20:52:12.886100",
     "status": "completed"
    },
    "tags": []
   },
   "source": [
    "<h2>IV. Baseline and Similiarity Predictions</h2>"
   ]
  },
  {
   "cell_type": "code",
   "execution_count": 6,
   "id": "e89c67a0",
   "metadata": {
    "execution": {
     "iopub.execute_input": "2025-04-26T20:52:12.896175Z",
     "iopub.status.busy": "2025-04-26T20:52:12.895977Z",
     "iopub.status.idle": "2025-04-26T20:52:13.612319Z",
     "shell.execute_reply": "2025-04-26T20:52:13.611497Z"
    },
    "papermill": {
     "duration": 0.721328,
     "end_time": "2025-04-26T20:52:13.613664",
     "exception": false,
     "start_time": "2025-04-26T20:52:12.892336",
     "status": "completed"
    },
    "tags": []
   },
   "outputs": [
    {
     "name": "stdout",
     "output_type": "stream",
     "text": [
      "Predict Everything to 3: RMSE=:1.2585510334053043\n",
      "Predict to User Average: RMSE=:1.0352910334228647\n"
     ]
    }
   ],
   "source": [
    "# From week 3 assignment\n",
    "rs = RecSys(data)\n",
    "yp_everything_to_3 = rs.predict_everything_to_3()\n",
    "rmse_everything_to_3 = rs.rmse(yp_everything_to_3)\n",
    "print(f\"Predict Everything to 3: RMSE=:{rmse_everything_to_3}\")\n",
    "yp_to_user_average = rs.predict_to_user_average()\n",
    "rmse_to_user_average = rs.rmse(yp_to_user_average)\n",
    "print(f\"Predict to User Average: RMSE=:{rmse_to_user_average}\")\n"
   ]
  },
  {
   "cell_type": "code",
   "execution_count": 7,
   "id": "618616b3",
   "metadata": {
    "execution": {
     "iopub.execute_input": "2025-04-26T20:52:13.621560Z",
     "iopub.status.busy": "2025-04-26T20:52:13.621309Z",
     "iopub.status.idle": "2025-04-26T21:06:44.166504Z",
     "shell.execute_reply": "2025-04-26T21:06:44.165692Z"
    },
    "papermill": {
     "duration": 870.550669,
     "end_time": "2025-04-26T21:06:44.167927",
     "exception": false,
     "start_time": "2025-04-26T20:52:13.617258",
     "status": "completed"
    },
    "tags": []
   },
   "outputs": [
    {
     "name": "stdout",
     "output_type": "stream",
     "text": [
      "Predict using Content-based filtering: RMSE=:1.0352910334228647\n"
     ]
    },
    {
     "name": "stderr",
     "output_type": "stream",
     "text": [
      "/usr/local/lib/python3.11/dist-packages/scipy/spatial/distance.py:685: RuntimeWarning: invalid value encountered in divide\n",
      "  dist = 1.0 - uv / math.sqrt(uu * vv)\n"
     ]
    },
    {
     "name": "stdout",
     "output_type": "stream",
     "text": [
      "Predict using Cosine Similiarity: RMSE=:1.0352910334228647\n"
     ]
    },
    {
     "name": "stderr",
     "output_type": "stream",
     "text": [
      "/usr/local/lib/python3.11/dist-packages/sklearn/metrics/pairwise.py:2025: DataConversionWarning: Data was converted to boolean for metric jaccard\n",
      "  warnings.warn(msg, DataConversionWarning)\n"
     ]
    },
    {
     "name": "stdout",
     "output_type": "stream",
     "text": [
      "similarity calculation time 414.55172994199995\n",
      "Predict using Jaccard Similarity: RMSE=:0.9913535741888878\n"
     ]
    }
   ],
   "source": [
    "\n",
    "# Content based filtering\n",
    "cb = ContentBased(data)\n",
    "cb.calc_item_item_similarity()\n",
    "yp_cb = cb.predict()\n",
    "rmse_content_based = cb.rmse(yp_cb)\n",
    "print(f\"Predict using Content-based filtering: RMSE=:{rmse_to_user_average}\")\n",
    "\n",
    "# Collaborative filtering\n",
    "# cosine similiarity\n",
    "cf = Collaborative(data)\n",
    "cf.calc_item_item_similarity(cf.cossim)\n",
    "yp_cossim = cf.predict()\n",
    "rmse_cosine = cf.rmse(yp_cossim)\n",
    "print(f\"Predict using Cosine Similiarity: RMSE=:{rmse_to_user_average}\")\n",
    "\n",
    "# jaccard similiarity \n",
    "Xr = cf.Mr.astype(int)\n",
    "t0=time.perf_counter()\n",
    "cf.calc_item_item_similarity(cf.jacsim,Xr)\n",
    "t1=time.perf_counter()\n",
    "time_sim = t1-t0\n",
    "print('similarity calculation time',time_sim)\n",
    "yp = cf.predict()\n",
    "rmse_jasim = cf.rmse(yp)\n",
    "print(f\"Predict using Jaccard Similarity: RMSE=:{rmse_jasim}\")"
   ]
  },
  {
   "cell_type": "markdown",
   "id": "47c04128",
   "metadata": {
    "papermill": {
     "duration": 0.003535,
     "end_time": "2025-04-26T21:06:44.175611",
     "exception": false,
     "start_time": "2025-04-26T21:06:44.172076",
     "status": "completed"
    },
    "tags": []
   },
   "source": [
    "<h2>V. NMF Predictions with static hyper-parameter</h2>"
   ]
  },
  {
   "cell_type": "code",
   "execution_count": 8,
   "id": "ebe0fdf3",
   "metadata": {
    "execution": {
     "iopub.execute_input": "2025-04-26T21:06:44.184032Z",
     "iopub.status.busy": "2025-04-26T21:06:44.183335Z",
     "iopub.status.idle": "2025-04-26T21:07:05.803357Z",
     "shell.execute_reply": "2025-04-26T21:07:05.802650Z"
    },
    "papermill": {
     "duration": 21.625452,
     "end_time": "2025-04-26T21:07:05.804525",
     "exception": false,
     "start_time": "2025-04-26T21:06:44.179073",
     "status": "completed"
    },
    "tags": []
   },
   "outputs": [
    {
     "name": "stderr",
     "output_type": "stream",
     "text": [
      "/usr/local/lib/python3.11/dist-packages/sklearn/decomposition/_nmf.py:1665: ConvergenceWarning: Maximum number of iterations 200 reached. Increase it to improve convergence.\n",
      "  warnings.warn(\n"
     ]
    },
    {
     "name": "stdout",
     "output_type": "stream",
     "text": [
      "Matrix Factorization (n_components=20): RMSE: 2.538\n"
     ]
    }
   ],
   "source": [
    "# NMF prediction with n_component =20\n",
    "from sklearn.decomposition import NMF\n",
    "\n",
    "clf = NMF(n_components=20)\n",
    "predicted_ratings = rs.predict_from_matrix_factorization(clf)\n",
    "rmse_nmf_20 = rs.rmse(predicted_ratings)\n",
    "print(f\"Matrix Factorization (n_components=20): RMSE: {rmse_nmf_20:.3f}\")"
   ]
  },
  {
   "cell_type": "markdown",
   "id": "a29bffdb",
   "metadata": {
    "papermill": {
     "duration": 0.003494,
     "end_time": "2025-04-26T21:07:05.812060",
     "exception": false,
     "start_time": "2025-04-26T21:07:05.808566",
     "status": "completed"
    },
    "tags": []
   },
   "source": [
    "<h2>VI. Hyper-parameter tuning</h2>"
   ]
  },
  {
   "cell_type": "code",
   "execution_count": 9,
   "id": "5988a387",
   "metadata": {
    "execution": {
     "iopub.execute_input": "2025-04-26T21:07:05.820542Z",
     "iopub.status.busy": "2025-04-26T21:07:05.819935Z",
     "iopub.status.idle": "2025-04-26T21:09:41.625195Z",
     "shell.execute_reply": "2025-04-26T21:09:41.624522Z"
    },
    "papermill": {
     "duration": 155.810768,
     "end_time": "2025-04-26T21:09:41.626565",
     "exception": false,
     "start_time": "2025-04-26T21:07:05.815797",
     "status": "completed"
    },
    "tags": []
   },
   "outputs": [
    {
     "name": "stdout",
     "output_type": "stream",
     "text": [
      "n_components = 5, RMSE = 2.609\n",
      "n_components = 10, RMSE = 2.567\n",
      "n_components = 15, RMSE = 2.545\n"
     ]
    },
    {
     "name": "stderr",
     "output_type": "stream",
     "text": [
      "/usr/local/lib/python3.11/dist-packages/sklearn/decomposition/_nmf.py:1665: ConvergenceWarning: Maximum number of iterations 200 reached. Increase it to improve convergence.\n",
      "  warnings.warn(\n"
     ]
    },
    {
     "name": "stdout",
     "output_type": "stream",
     "text": [
      "n_components = 20, RMSE = 2.538\n"
     ]
    },
    {
     "name": "stderr",
     "output_type": "stream",
     "text": [
      "/usr/local/lib/python3.11/dist-packages/sklearn/decomposition/_nmf.py:1665: ConvergenceWarning: Maximum number of iterations 200 reached. Increase it to improve convergence.\n",
      "  warnings.warn(\n"
     ]
    },
    {
     "name": "stdout",
     "output_type": "stream",
     "text": [
      "n_components = 30, RMSE = 2.536\n"
     ]
    },
    {
     "name": "stderr",
     "output_type": "stream",
     "text": [
      "/usr/local/lib/python3.11/dist-packages/sklearn/decomposition/_nmf.py:1665: ConvergenceWarning: Maximum number of iterations 200 reached. Increase it to improve convergence.\n",
      "  warnings.warn(\n"
     ]
    },
    {
     "name": "stdout",
     "output_type": "stream",
     "text": [
      "n_components = 40, RMSE = 2.547\n"
     ]
    },
    {
     "name": "stderr",
     "output_type": "stream",
     "text": [
      "/usr/local/lib/python3.11/dist-packages/sklearn/decomposition/_nmf.py:1665: ConvergenceWarning: Maximum number of iterations 200 reached. Increase it to improve convergence.\n",
      "  warnings.warn(\n"
     ]
    },
    {
     "name": "stdout",
     "output_type": "stream",
     "text": [
      "n_components = 50, RMSE = 2.552\n",
      "Best RMSE value with NMF prediction(n_components = 30), RMSE = 2.536\n"
     ]
    },
    {
     "data": {
      "image/png": "[encoded data removed]",
      "text/plain": [
       "<Figure size 800x600 with 1 Axes>"
      ]
     },
     "metadata": {},
     "output_type": "display_data"
    }
   ],
   "source": [
    "# hyper-parameter tuning to find best n_component, and lowest RMSE value\n",
    "from sklearn.decomposition import NMF\n",
    "\n",
    "n_component_values = [5, 10, 15, 20, 30, 40, 50]\n",
    "rmse_values = []\n",
    "\n",
    "best_nmf_comp =0\n",
    "best_nmf_rmse= np.inf\n",
    "\n",
    "for comp in n_component_values:\n",
    "    clf = NMF(n_components=comp)\n",
    "    predicted_ratings = rs.predict_from_matrix_factorization(clf)\n",
    "    true_ratings = np.array(rs.data.test['rating'])\n",
    "    rmse = rs.rmse(predicted_ratings)    \n",
    "    print(f\"n_components = {comp}, RMSE = {rmse:.3f}\")\n",
    "    if rmse < best_nmf_rmse:\n",
    "        best_nmf_rmse = rmse\n",
    "        best_nmf_comp = comp\n",
    "    rmse_values.append(rmse)\n",
    "    \n",
    "print(f\"Best RMSE value with NMF prediction(n_components = {best_nmf_comp}), RMSE = {best_nmf_rmse:.3f}\")\n",
    "plt.figure(figsize=(8,6))\n",
    "plt.plot(n_component_values, rmse_values, marker='o')\n",
    "plt.title('RMSE vs. n_components for NMF')\n",
    "plt.xlabel('Number of Components (n_components)')\n",
    "plt.ylabel('RMSE')\n",
    "plt.grid(True)\n",
    "plt.show()\n"
   ]
  },
  {
   "cell_type": "code",
   "execution_count": 10,
   "id": "a4cdb046",
   "metadata": {
    "execution": {
     "iopub.execute_input": "2025-04-26T21:09:41.637001Z",
     "iopub.status.busy": "2025-04-26T21:09:41.636810Z",
     "iopub.status.idle": "2025-04-26T21:09:41.808476Z",
     "shell.execute_reply": "2025-04-26T21:09:41.807824Z"
    },
    "papermill": {
     "duration": 0.178037,
     "end_time": "2025-04-26T21:09:41.809655",
     "exception": false,
     "start_time": "2025-04-26T21:09:41.631618",
     "status": "completed"
    },
    "tags": []
   },
   "outputs": [
    {
     "data": {
      "image/png": "[encoded data removed]",
      "text/plain": [
       "<Figure size 1000x600 with 1 Axes>"
      ]
     },
     "metadata": {},
     "output_type": "display_data"
    },
    {
     "data": {
      "text/html": [
       "<div>\n",
       "<style scoped>\n",
       "    .dataframe tbody tr th:only-of-type {\n",
       "        vertical-align: middle;\n",
       "    }\n",
       "\n",
       "    .dataframe tbody tr th {\n",
       "        vertical-align: top;\n",
       "    }\n",
       "\n",
       "    .dataframe thead th {\n",
       "        text-align: right;\n",
       "    }\n",
       "</style>\n",
       "<table border=\"1\" class=\"dataframe\">\n",
       "  <thead>\n",
       "    <tr style=\"text-align: right;\">\n",
       "      <th></th>\n",
       "      <th>Method</th>\n",
       "      <th>RMSE</th>\n",
       "    </tr>\n",
       "  </thead>\n",
       "  <tbody>\n",
       "    <tr>\n",
       "      <th>0</th>\n",
       "      <td>Collaborative Filtering (Jaccard)</td>\n",
       "      <td>0.991354</td>\n",
       "    </tr>\n",
       "    <tr>\n",
       "      <th>1</th>\n",
       "      <td>Collaborative Filtering (Cosine)</td>\n",
       "      <td>1.002358</td>\n",
       "    </tr>\n",
       "    <tr>\n",
       "      <th>2</th>\n",
       "      <td>Content-Based Filtering</td>\n",
       "      <td>1.012503</td>\n",
       "    </tr>\n",
       "    <tr>\n",
       "      <th>3</th>\n",
       "      <td>Predict to User Average</td>\n",
       "      <td>1.035291</td>\n",
       "    </tr>\n",
       "    <tr>\n",
       "      <th>4</th>\n",
       "      <td>Predict Everything to 3</td>\n",
       "      <td>1.258551</td>\n",
       "    </tr>\n",
       "    <tr>\n",
       "      <th>5</th>\n",
       "      <td>Matrix Factorization (NMF)(n_comp=30)</td>\n",
       "      <td>2.535923</td>\n",
       "    </tr>\n",
       "  </tbody>\n",
       "</table>\n",
       "</div>"
      ],
      "text/plain": [
       "                                  Method      RMSE\n",
       "0      Collaborative Filtering (Jaccard)  0.991354\n",
       "1       Collaborative Filtering (Cosine)  1.002358\n",
       "2                Content-Based Filtering  1.012503\n",
       "3                Predict to User Average  1.035291\n",
       "4                Predict Everything to 3  1.258551\n",
       "5  Matrix Factorization (NMF)(n_comp=30)  2.535923"
      ]
     },
     "metadata": {},
     "output_type": "display_data"
    }
   ],
   "source": [
    "# show comparison of RMSE vs Methods.\n",
    "methods = [\n",
    "    'Predict Everything to 3',\n",
    "    'Predict to User Average',\n",
    "    'Content-Based Filtering',\n",
    "    'Collaborative Filtering (Cosine)',\n",
    "    'Collaborative Filtering (Jaccard)',\n",
    "    f\"Matrix Factorization (NMF)(n_comp={best_nmf_comp})\"\n",
    "]\n",
    "\n",
    "rmse_values = [\n",
    "    rmse_everything_to_3,\n",
    "    rmse_to_user_average,\n",
    "    rmse_content_based,\n",
    "    rmse_cosine,\n",
    "    rmse_jasim, \n",
    "    best_nmf_rmse\n",
    "]\n",
    "rmse_df = pd.DataFrame({\n",
    "    'Method': methods,\n",
    "    'RMSE': rmse_values\n",
    "})\n",
    "rmse_df_sorted = rmse_df.sort_values('RMSE').reset_index(drop=True)\n",
    "\n",
    "plt.figure(figsize=(10,6))\n",
    "plt.barh(methods, rmse_values)\n",
    "plt.xlabel('RMSE')\n",
    "plt.title('Comparison of Error using Different Recommendation Methods')\n",
    "plt.gca().invert_yaxis() \n",
    "plt.grid(axis='x')\n",
    "plt.show()\n",
    "\n",
    "display(rmse_df_sorted)"
   ]
  },
  {
   "cell_type": "markdown",
   "id": "ba976a75",
   "metadata": {
    "papermill": {
     "duration": 0.005141,
     "end_time": "2025-04-26T21:09:41.820552",
     "exception": false,
     "start_time": "2025-04-26T21:09:41.815411",
     "status": "completed"
    },
    "tags": []
   },
   "source": [
    "<h2>VII. Conclusion</h2>\n",
    "\n",
    "<p><b>Prediction results comparison using RMSE measure</b></p>\n",
    "\n",
    "<p>Comparing the prediction results, unsupervised method using NMF performs significantly worse than other methods returns highest RMSE error.</p>\n",
    "<p><b>Analysis: </b>Since the MovieLens-1M dataset is extremely sparse, the RMSE ~2.5 values suggest that the zeros values should be reconstructed as low values. Failing to ignore zeros during factorization can distort the learned latent factors.</p>\n",
    "<p><b>Possible improvement: </b>If we mask out the components from the unknown values, prediction from NMF could be better. This could potentially be better than \"everything to 3\", but it will still be worse than a similarity-based method. </p>"
   ]
  },
  {
   "cell_type": "markdown",
   "id": "202a090e",
   "metadata": {
    "papermill": {
     "duration": 0.004978,
     "end_time": "2025-04-26T21:09:41.830706",
     "exception": false,
     "start_time": "2025-04-26T21:09:41.825728",
     "status": "completed"
    },
    "tags": []
   },
   "source": [
    "@author alme9155@colorado.edu<br/>\n",
    "@url: https://www.kaggle.com/code/ameau01/movierecommender-system-with-matrix-factorization"
   ]
  },
  {
   "cell_type": "markdown",
   "id": "b926e300",
   "metadata": {
    "papermill": {
     "duration": 0.00499,
     "end_time": "2025-04-26T21:09:41.841117",
     "exception": false,
     "start_time": "2025-04-26T21:09:41.836127",
     "status": "completed"
    },
    "tags": []
   },
   "source": []
  },
  {
   "cell_type": "markdown",
   "id": "4a2dd666",
   "metadata": {
    "papermill": {
     "duration": 0.004967,
     "end_time": "2025-04-26T21:09:41.851262",
     "exception": false,
     "start_time": "2025-04-26T21:09:41.846295",
     "status": "completed"
    },
    "tags": []
   },
   "source": [
    "."
   ]
  }
 ],
 "metadata": {
  "kaggle": {
   "accelerator": "nvidiaTeslaT4",
   "dataSources": [
    {
     "datasetId": 7253935,
     "sourceId": 11570251,
     "sourceType": "datasetVersion"
    }
   ],
   "dockerImageVersionId": 31012,
   "isGpuEnabled": true,
   "isInternetEnabled": true,
   "language": "python",
   "sourceType": "notebook"
  },
  "kernelspec": {
   "display_name": "Python 3",
   "language": "python",
   "name": "python3"
  },
  "language_info": {
   "codemirror_mode": {
    "name": "ipython",
    "version": 3
   },
   "file_extension": ".py",
   "mimetype": "text/x-python",
   "name": "python",
   "nbconvert_exporter": "python",
   "pygments_lexer": "ipython3",
   "version": "3.11.11"
  },
  "papermill": {
   "default_parameters": {},
   "duration": 1057.473571,
   "end_time": "2025-04-26T21:09:42.375776",
   "environment_variables": {},
   "exception": null,
   "input_path": "__notebook__.ipynb",
   "output_path": "__notebook__.ipynb",
   "parameters": {},
   "start_time": "2025-04-26T20:52:04.902205",
   "version": "2.6.0"
  }
 },
 "nbformat": 4,
 "nbformat_minor": 5
}
