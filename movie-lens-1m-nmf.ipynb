{
 "cells": [
  {
   "cell_type": "markdown",
   "id": "a624bbdd",
   "metadata": {
    "papermill": {
     "duration": 0.005633,
     "end_time": "2025-04-26T18:05:28.611935",
     "exception": false,
     "start_time": "2025-04-26T18:05:28.606302",
     "status": "completed"
    },
    "tags": []
   },
   "source": [
    "\n",
    "# MovieLense Rating Data\n",
    "<p>CSCA-5632 Unsupervised Algorithms in Machine Learning</p>\n",
    "<p>University of Colorado Boulder</p>\n",
    "<p>@author alme9155@colorado.edu</p>\n",
    "<hr/>\n",
    "\n",
    "<h2>I. Project Overview:</h2>\n",
    "<h3>I.i.Objectives</h3>\n",
    "<h3>Use Matrix factorization technique(s) and predict the missing ratings from the test data. Measure the RMSE.</h3> \n",
    "\n",
    "This notebook includes the following:\n",
    "* Brief EDA procedures\n",
    "* Matrix factorization model building and training\n",
    "* Model predictions and RMSE results\n",
    "* Prediction results comparison with Supervised Learning\n",
    "* Improvement from simple baseline.\n",
    "\n",
    "<h3>I.ii. Project Description</h3>\n",
    "This project will use a MovieLense rating dataset to run matrix factorization model building and return prediction results with root mean square error (RMSE). \n",
    "<ul>\n",
    "<li>Data source: <a url=\"https://www.kaggle.com/odedgolden/movielens-1m-dataset\">https://www.kaggle.com/odedgolden/movielens-1m-dataset</a></li>\n",
    "<li>MovieLens 1M</li>\n",
    "</ul>"
   ]
  },
  {
   "cell_type": "code",
   "execution_count": 1,
   "id": "74720471",
   "metadata": {
    "_cell_guid": "b1076dfc-b9ad-4769-8c92-a6c4dae69d19",
    "_uuid": "8f2839f25d086af736a60e9eeb907d3b93b6e0e5",
    "execution": {
     "iopub.execute_input": "2025-04-26T18:05:28.622321Z",
     "iopub.status.busy": "2025-04-26T18:05:28.621892Z",
     "iopub.status.idle": "2025-04-26T18:05:30.618659Z",
     "shell.execute_reply": "2025-04-26T18:05:30.617555Z"
    },
    "papermill": {
     "duration": 2.004174,
     "end_time": "2025-04-26T18:05:30.620600",
     "exception": false,
     "start_time": "2025-04-26T18:05:28.616426",
     "status": "completed"
    },
    "tags": []
   },
   "outputs": [
    {
     "name": "stdout",
     "output_type": "stream",
     "text": [
      "/kaggle/input/movies-len-1m/movies.csv\n",
      "/kaggle/input/movies-len-1m/users.csv\n",
      "/kaggle/input/movies-len-1m/train.csv\n",
      "/kaggle/input/movies-len-1m/test.csv\n"
     ]
    }
   ],
   "source": [
    "# This Python 3 environment comes with many helpful analytics libraries installed\n",
    "# It is defined by the kaggle/python Docker image: https://github.com/kaggle/docker-python\n",
    "# For example, here's several helpful packages to load\n",
    "\n",
    "import numpy as np # linear algebra\n",
    "import pandas as pd # data processing, CSV file I/O (e.g. pd.read_csv)\n",
    "\n",
    "# Input data files are available in the read-only \"../input/\" directory\n",
    "# For example, running this (by clicking run or pressing Shift+Enter) will list all files under the input directory\n",
    "\n",
    "import os\n",
    "for dirname, _, filenames in os.walk('/kaggle/input'):\n",
    "    for filename in filenames:\n",
    "        print(os.path.join(dirname, filename))\n",
    "\n",
    "# You can write up to 20GB to the current directory (/kaggle/working/) that gets preserved as output when you create a version using \"Save & Run All\" \n",
    "# You can also write temporary files to /kaggle/temp/, but they won't be saved outside of the current session"
   ]
  },
  {
   "cell_type": "markdown",
   "id": "42d37c75",
   "metadata": {
    "papermill": {
     "duration": 0.00394,
     "end_time": "2025-04-26T18:05:30.629232",
     "exception": false,
     "start_time": "2025-04-26T18:05:30.625292",
     "status": "completed"
    },
    "tags": []
   },
   "source": [
    "<h2>II. Exploratory Data Analysis</h2>\n",
    "\n",
    "<h3>II.i.Loading the data from class CSV files</h3>\n",
    "This notebook includes CSV files from week3 assignment. \n",
    "\n",
    "<h3>II.ii.Exploring and understanding the data</h3>\n",
    "Explore dataset structure."
   ]
  },
  {
   "cell_type": "code",
   "execution_count": 2,
   "id": "1233bc75",
   "metadata": {
    "execution": {
     "iopub.execute_input": "2025-04-26T18:05:30.642077Z",
     "iopub.status.busy": "2025-04-26T18:05:30.640404Z",
     "iopub.status.idle": "2025-04-26T18:05:33.151992Z",
     "shell.execute_reply": "2025-04-26T18:05:33.150629Z"
    },
    "papermill": {
     "duration": 2.520032,
     "end_time": "2025-04-26T18:05:33.153851",
     "exception": false,
     "start_time": "2025-04-26T18:05:30.633819",
     "status": "completed"
    },
    "tags": []
   },
   "outputs": [
    {
     "name": "stdout",
     "output_type": "stream",
     "text": [
      "Data loaded successfully.\n",
      "\n",
      "Training Data Info:\n",
      "--------------------------\n",
      "<class 'pandas.core.frame.DataFrame'>\n",
      "RangeIndex: 700146 entries, 0 to 700145\n",
      "Data columns (total 3 columns):\n",
      " #   Column  Non-Null Count   Dtype\n",
      "---  ------  --------------   -----\n",
      " 0   uID     700146 non-null  int64\n",
      " 1   mID     700146 non-null  int64\n",
      " 2   rating  700146 non-null  int64\n",
      "dtypes: int64(3)\n",
      "memory usage: 16.0 MB\n",
      "None\n",
      "\n",
      "Testing Data Info:\n",
      "--------------------------\n",
      "<class 'pandas.core.frame.DataFrame'>\n",
      "RangeIndex: 300063 entries, 0 to 300062\n",
      "Data columns (total 3 columns):\n",
      " #   Column  Non-Null Count   Dtype\n",
      "---  ------  --------------   -----\n",
      " 0   uID     300063 non-null  int64\n",
      " 1   mID     300063 non-null  int64\n",
      " 2   rating  300063 non-null  int64\n",
      "dtypes: int64(3)\n",
      "memory usage: 6.9 MB\n",
      "None\n",
      "\n",
      "First five rows of training data:\n",
      "--------------------------\n",
      "    uID   mID  rating\n",
      "0   744  1210       5\n",
      "1  3040  1584       4\n",
      "2  1451  1293       5\n",
      "3  5455  3176       2\n",
      "4  2507  3074       5\n",
      "\n",
      "First five rows of testing data:\n",
      "--------------------------\n",
      "    uID   mID  rating\n",
      "0  2233   440       4\n",
      "1  4274   587       5\n",
      "2  2498   454       3\n",
      "3  2868  2336       5\n",
      "4  1636  2686       5\n",
      "\n",
      "Missing values in Training Set:\n",
      "--------------------------\n",
      "uID       0\n",
      "mID       0\n",
      "rating    0\n",
      "dtype: int64\n",
      "\n",
      "Missing Values in Test Set:\n",
      "--------------------------\n",
      "uID       0\n",
      "mID       0\n",
      "rating    0\n",
      "dtype: int64\n",
      "Resys class loaded.\n"
     ]
    }
   ],
   "source": [
    "import pandas as pd\n",
    "import matplotlib.pyplot as plt\n",
    "import numpy as np\n",
    "import time\n",
    "from sklearn.model_selection import train_test_split\n",
    "from scipy.sparse import coo_matrix, csr_matrix\n",
    "from scipy.spatial.distance import jaccard, cosine \n",
    "from pytest import approx\n",
    "# EDA process\n",
    "# 1. load the dataset\n",
    "# 2. inspect the data\n",
    "\n",
    "## loading the data\n",
    "MV_users = pd.read_csv('/kaggle/input/movies-len-1m//users.csv')\n",
    "MV_movies = pd.read_csv('/kaggle/input/movies-len-1m//movies.csv')\n",
    "train = pd.read_csv('/kaggle/input/movies-len-1m//train.csv')\n",
    "test = pd.read_csv('/kaggle/input/movies-len-1m//test.csv')\n",
    "print(f\"Data loaded successfully.\")\n",
    "\n",
    "print(f\"\\nTraining Data Info:\")\n",
    "print(\"--------------------------\")\n",
    "print(train.info())\n",
    "print(f\"\\nTesting Data Info:\")\n",
    "print(\"--------------------------\")    \n",
    "print(test.info())\n",
    "\n",
    "print(f\"\\nFirst five rows of training data:\")\n",
    "print(\"--------------------------\")    \n",
    "print(train.head())\n",
    "print(f\"\\nFirst five rows of testing data:\")\n",
    "print(\"--------------------------\")    \n",
    "print(test.head())\n",
    "\n",
    "print(f\"\\nMissing values in Training Set:\")\n",
    "print(\"--------------------------\")    \n",
    "print(train.isnull().sum())\n",
    "print(f\"\\nMissing Values in Test Set:\")\n",
    "print(\"--------------------------\")    \n",
    "print(test.isnull().sum())\n",
    "\n",
    "# print(\"\\nArticle Categories\")\n",
    "# print(\"--------------------------\")    \n",
    "# unique_categories = train['Category'].unique()\n",
    "# print(f\"Unique Article categories:{unique_categories}\")\n",
    "# print(f\"Number of categories:{len(unique_categories)}\")\n",
    "\n",
    "from collections import namedtuple\n",
    "Data = namedtuple('Data', ['users','movies','train','test'])\n",
    "data = Data(MV_users, MV_movies, train, test)\n",
    "\n",
    "print(\"Resys class loaded.\")"
   ]
  },
  {
   "cell_type": "markdown",
   "id": "93df67e1",
   "metadata": {
    "papermill": {
     "duration": 0.004225,
     "end_time": "2025-04-26T18:05:33.162743",
     "exception": false,
     "start_time": "2025-04-26T18:05:33.158518",
     "status": "completed"
    },
    "tags": []
   },
   "source": [
    "<h3>II.iii.Create sample train and test dataset for quick debugging</h3>"
   ]
  },
  {
   "cell_type": "code",
   "execution_count": 3,
   "id": "74bba30e",
   "metadata": {
    "execution": {
     "iopub.execute_input": "2025-04-26T18:05:33.172729Z",
     "iopub.status.busy": "2025-04-26T18:05:33.172402Z",
     "iopub.status.idle": "2025-04-26T18:05:33.189445Z",
     "shell.execute_reply": "2025-04-26T18:05:33.188357Z"
    },
    "papermill": {
     "duration": 0.024089,
     "end_time": "2025-04-26T18:05:33.191017",
     "exception": false,
     "start_time": "2025-04-26T18:05:33.166928",
     "status": "completed"
    },
    "tags": []
   },
   "outputs": [
    {
     "name": "stdout",
     "output_type": "stream",
     "text": [
      "Sample train and test dataset created successfully.\n"
     ]
    }
   ],
   "source": [
    "# Creating Sample train data\n",
    "np.random.seed(42)\n",
    "sample_train = train[:30000]\n",
    "sample_test = test[:30000]\n",
    "sample_MV_users = MV_users[(MV_users.uID.isin(sample_train.uID)) | (MV_users.uID.isin(sample_test.uID))]\n",
    "sample_MV_movies = MV_movies[(MV_movies.mID.isin(sample_train.mID)) | (MV_movies.mID.isin(sample_test.mID))]\n",
    "sample_data = Data(sample_MV_users, sample_MV_movies, sample_train, sample_test)\n",
    "print(f\"Sample train and test dataset created successfully.\")"
   ]
  },
  {
   "cell_type": "markdown",
   "id": "cab3d70d",
   "metadata": {
    "papermill": {
     "duration": 0.004076,
     "end_time": "2025-04-26T18:05:33.199594",
     "exception": false,
     "start_time": "2025-04-26T18:05:33.195518",
     "status": "completed"
    },
    "tags": []
   },
   "source": [
    "<h2>III. NMF classifer</h2>\n",
    "\n",
    "Organize code created in Part 1 of Learn-BBC-AI project into NMF classifer class.\n",
    "It includes the following method:\n",
    "* Fit(): Train the model\n",
    "* Predict(): Make prediction\n",
    "* RMSE(): Root mean square error measure\n",
    "* Accuracy(): Accuracy measure"
   ]
  },
  {
   "cell_type": "code",
   "execution_count": 4,
   "id": "d96b9a5d",
   "metadata": {
    "execution": {
     "iopub.execute_input": "2025-04-26T18:05:33.209646Z",
     "iopub.status.busy": "2025-04-26T18:05:33.209325Z",
     "iopub.status.idle": "2025-04-26T18:05:33.395336Z",
     "shell.execute_reply": "2025-04-26T18:05:33.394411Z"
    },
    "papermill": {
     "duration": 0.193062,
     "end_time": "2025-04-26T18:05:33.396803",
     "exception": false,
     "start_time": "2025-04-26T18:05:33.203741",
     "status": "completed"
    },
    "tags": []
   },
   "outputs": [
    {
     "name": "stdout",
     "output_type": "stream",
     "text": [
      "NMF classifier created successfully.\n"
     ]
    }
   ],
   "source": [
    "import numpy as np\n",
    "from sklearn.decomposition import NMF\n",
    "from sklearn.metrics import accuracy_score, mean_squared_error\n",
    "import warnings\n",
    "warnings.filterwarnings('ignore')\n",
    "\n",
    "class NMFClassifier:\n",
    "    def __init__(self, n_components, random_state=42):\n",
    "        self.random_state = random_state\n",
    "        self.nmf = None\n",
    "        self.components_to_label = {}\n",
    "        self.n_components = None\n",
    "        self.used_components = set()\n",
    "    \n",
    "    def fit(self, x_train, y_train):\n",
    "        \"\"\"\n",
    "        Fit the NMF model and create label mappings.\n",
    "\n",
    "        Parameters:\n",
    "        x_train: Training data\n",
    "        y_train: Training labels\n",
    "        \"\"\"\n",
    "        self.y_train = y_train  # Save for later use if needed\n",
    "        self.unique_components = len(np.unique(y_train))\n",
    "        \n",
    "        # Initialize and fit NMF\n",
    "        self.nmf = NMF(n_components=self.unique_components, random_state=self.random_state)\n",
    "        x_train_nmf = self.nmf.fit_transform(x_train)\n",
    "        \n",
    "        # Find most likely component for each training sample\n",
    "        components_prediction = np.argmax(x_train_nmf, axis=1)\n",
    "\n",
    "        self.components_to_label = {}\n",
    "        self.used_components = set()\n",
    "        \n",
    "        for component in range(self.unique_components):\n",
    "            if np.isin(component, components_prediction):\n",
    "                label = np.bincount(y_train[components_prediction == component]).argmax()\n",
    "                self.components_to_label[component] = label\n",
    "                self.used_components.add(label)\n",
    "            else:\n",
    "                for i in range(self.unique_components):\n",
    "                    if i not in self.used_components:\n",
    "                        self.components_to_label[component] = i\n",
    "                        self.used_components.add(i)\n",
    "                        break\n",
    "                else:\n",
    "                    self.components_to_label[component] = 0  # default fallback\n",
    "    \n",
    "    def predict(self, x_test):\n",
    "        \"\"\"\n",
    "        Predict label for input data.\n",
    "\n",
    "        Parameters:\n",
    "        x_test: Test input dataset\n",
    "\n",
    "        Returns:\n",
    "        Predicted categories\n",
    "        \"\"\"\n",
    "        x_nmf = self.nmf.transform(x_test)\n",
    "        y_pred_components = np.argmax(x_nmf, axis=1)\n",
    "        return np.array([self.components_to_label[comp] for comp in y_pred_components])\n",
    "    \n",
    "    def rmse(self, y_pred, y_test):\n",
    "        \"\"\"\n",
    "        Evaluate model performance.\n",
    "\n",
    "        Parameters:\n",
    "        y_pred: Predicted labels\n",
    "        y_test: Test labels\n",
    "\n",
    "        Returns:\n",
    "        Root mean square error (RMSE)\n",
    "        \"\"\"\n",
    "        return np.sqrt(mean_squared_error(y_test, y_pred))\n",
    "\n",
    "    def accuracy(self, y_pred, y_test):\n",
    "        \"\"\"\n",
    "        Evaluate model performance.\n",
    "\n",
    "        Parameters:\n",
    "        y_pred: Predicted labels\n",
    "        y_test: Test labels\n",
    "\n",
    "        Returns:\n",
    "        Accuracy measure\n",
    "        \"\"\"\n",
    "        return accuracy_score(y_test, y_pred)\n",
    "\n",
    "print(f\"NMF classifier created successfully.\")"
   ]
  },
  {
   "cell_type": "markdown",
   "id": "05f79e75",
   "metadata": {
    "papermill": {
     "duration": 0.004051,
     "end_time": "2025-04-26T18:05:33.405491",
     "exception": false,
     "start_time": "2025-04-26T18:05:33.401440",
     "status": "completed"
    },
    "tags": []
   },
   "source": [
    "<h2>III. Enhance RecSys class with matrix factorization method</h2>\n",
    "\n",
    "Enhance Recommendation System class from Week 3 assignment with new method to predict missing ratings from the the test data."
   ]
  },
  {
   "cell_type": "code",
   "execution_count": 5,
   "id": "0af3581d",
   "metadata": {
    "execution": {
     "iopub.execute_input": "2025-04-26T18:05:33.415863Z",
     "iopub.status.busy": "2025-04-26T18:05:33.415535Z",
     "iopub.status.idle": "2025-04-26T18:05:33.530359Z",
     "shell.execute_reply": "2025-04-26T18:05:33.529055Z"
    },
    "papermill": {
     "duration": 0.121971,
     "end_time": "2025-04-26T18:05:33.531847",
     "exception": false,
     "start_time": "2025-04-26T18:05:33.409876",
     "status": "completed"
    },
    "tags": []
   },
   "outputs": [
    {
     "name": "stdout",
     "output_type": "stream",
     "text": [
      "Enhanced RecSys with predict_from_matrix_factorization loaded.\n"
     ]
    }
   ],
   "source": [
    "from scipy.spatial.distance import pdist, squareform\n",
    "from sklearn.preprocessing import StandardScaler\n",
    "from sklearn.metrics.pairwise import cosine_similarity, pairwise_distances\n",
    "\n",
    "class RecSys():\n",
    "    def __init__(self,data):\n",
    "        self.data=data\n",
    "        self.allusers = list(self.data.users['uID'])\n",
    "        self.allmovies = list(self.data.movies['mID'])\n",
    "        self.genres = list(self.data.movies.columns.drop(['mID', 'title', 'year']))\n",
    "        self.mid2idx = dict(zip(self.data.movies.mID,list(range(len(self.data.movies)))))\n",
    "        self.uid2idx = dict(zip(self.data.users.uID,list(range(len(self.data.users)))))\n",
    "        self.Mr=self.rating_matrix()\n",
    "        self.Mm=None \n",
    "        self.sim=np.zeros((len(self.allmovies),len(self.allmovies)))\n",
    "        \n",
    "    def rating_matrix(self):\n",
    "        \"\"\"\n",
    "        Convert the rating matrix to numpy array of shape (#allusers,#allmovies)\n",
    "        \"\"\"\n",
    "        ind_movie = [self.mid2idx[x] for x in self.data.train.mID] \n",
    "        ind_user = [self.uid2idx[x] for x in self.data.train.uID]\n",
    "        rating_train = list(self.data.train.rating)\n",
    "        \n",
    "        return np.array(coo_matrix((rating_train, (ind_user, ind_movie)), shape=(len(self.allusers), len(self.allmovies))).toarray())\n",
    "\n",
    "\n",
    "    def predict_everything_to_3(self):\n",
    "        \"\"\"\n",
    "        Predict everything to 3 for the test data\n",
    "        \"\"\"\n",
    "        # Generate an array with 3s against all entries in test dataset\n",
    "        # your code here\n",
    "        return np.full(len(self.data.test), 3.00)\n",
    "        \n",
    "        \n",
    "    def predict_to_user_average(self):\n",
    "        \"\"\"\n",
    "        Predict to average rating for the user.\n",
    "        Returns numpy array of shape (#users,)\n",
    "        \"\"\"\n",
    "        # Generate an array as follows:\n",
    "        # 1. Calculate all avg user rating as sum of ratings of user across all movies/number of movies whose rating > 0\n",
    "        # 2. Return the average rating of users in test data\n",
    "        # your code here\n",
    "        \n",
    "        user_average_ratings = self.data.train[self.data.train['rating'] > 0].groupby('uID')['rating'].mean()\n",
    "        predicted_rating = self.data.test['uID'].map(user_average_ratings)\n",
    "        return predicted_rating\n",
    "    \n",
    "    def predict_from_sim(self,uid,mid):\n",
    "        \"\"\"\n",
    "        Predict a user rating on a movie given userID and movieID\n",
    "        \"\"\"\n",
    "        # Predict user rating as follows:\n",
    "        # 1. Get entry of user id in rating matrix\n",
    "        # 2. Get entry of movie id in sim matrix\n",
    "        # 3. Employ 1 and 2 to predict user rating of the movie\n",
    "        # your code here\n",
    "        \n",
    "        # using the hint given in the resource material:\n",
    "        # . ...the sum of similarity scores for all the movies \n",
    "        # which were rated by the user-group (i.e. User_rating !=0)\n",
    "        \n",
    "        user_idx = self.uid2idx[uid]\n",
    "        movie_idx = self.mid2idx[mid]\n",
    "        \n",
    "        user_ratings = self.Mr[user_idx]\n",
    "        movie_similarities = self.sim[movie_idx]\n",
    "        non_zero_ratings = user_ratings[user_ratings != 0]\n",
    "        \n",
    "        non_zero_similarities = movie_similarities[user_ratings != 0]\n",
    "\n",
    "        if np.sum(non_zero_similarities) > 0:\n",
    "            weighted_sum = np.dot(non_zero_ratings, non_zero_similarities)\n",
    "            similarity_sum = np.sum(non_zero_similarities)\n",
    "            predicted_rating = weighted_sum / similarity_sum\n",
    "        else:\n",
    "            if len(non_zero_ratings) > 0:\n",
    "                predicted_rating = np.mean(non_zero_ratings) \n",
    "            else:\n",
    "                predicted_rating = 3.0            \n",
    "        return predicted_rating\n",
    "    \n",
    "    \n",
    "    \n",
    "    def predict(self):\n",
    "        \"\"\"\n",
    "        Predict ratings in the test data. Returns predicted rating in a numpy array of size (# of rows in testdata,)\n",
    "        \"\"\"\n",
    "        # your code here\n",
    "        # no normalization needed because predict_from_sim already filter out zero values\n",
    "        predicted_ratings = []\n",
    "        for _, row in self.data.test.iterrows():\n",
    "            predicted_result_from_sim = self.predict_from_sim(row['uID'] , row['mID'])\n",
    "            predicted_ratings.append(predicted_result_from_sim)\n",
    "            \n",
    "            #user_avg = self.Mr[self.uid2idx[uid]].mean() \n",
    "            #normalized_predicted_rating = predicted_result_from_sim - user_avg\n",
    "            #predicted_ratings.append(normalized_predicted_rating)            \n",
    "        return np.array(predicted_ratings)\n",
    "        \n",
    "    \n",
    "    def rmse(self,yp):\n",
    "        yp[np.isnan(yp)]=3 #In case there is nan values in prediction, it will impute to 3.\n",
    "        yt=np.array(self.data.test.rating)\n",
    "        return np.sqrt(((yt-yp)**2).mean())\n",
    "\n",
    "\n",
    "    def predict_from_matrix_factorization(self, model):\n",
    "        \"\"\"\n",
    "        Predict ratings for the test set using matrix factorization model\n",
    "        \n",
    "        Parameters:\n",
    "        model: A matrix factorization model \n",
    "        \n",
    "        Returns:\n",
    "        predicted_ratings: A numpy array of predicted ratings for the test set.\n",
    "        \"\"\"\n",
    "        # Fit the model on the training rating matrix\n",
    "        Mr = self.Mr\n",
    "        user_matrix = model.fit_transform(Mr)      # Matrix (#users, #components)\n",
    "        item_matrix = model.components_            # Matrix (#components, #movies)\n",
    "\n",
    "        # Predict the full reconstructed ratings\n",
    "        Mr_pred = np.dot(user_matrix, item_matrix)\n",
    "        \n",
    "        mean_rating = 3.0\n",
    "        if self.data.train['rating'].size > 0:\n",
    "            mean_rating = self.data.train['rating'].mean() \n",
    "\n",
    "        predicted_ratings = []\n",
    "        for idx, row in self.data.test.iterrows():\n",
    "            uid = row['uID']\n",
    "            mid = row['mID']\n",
    "\n",
    "            # Check if user and movie exist in training data\n",
    "            yp = mean_rating\n",
    "            if uid in self.uid2idx and mid in self.mid2idx:\n",
    "                user_idx = self.uid2idx[uid]\n",
    "                movie_idx = self.mid2idx[mid]\n",
    "                yp = Mr_pred[user_idx, movie_idx]\n",
    "                yp = np.clip(yp, 1, 5)\n",
    "\n",
    "            predicted_ratings.append(yp)\n",
    "        return np.array(predicted_ratings)\n",
    "\n",
    "print(f\"Enhanced RecSys with predict_from_matrix_factorization loaded.\")"
   ]
  },
  {
   "cell_type": "code",
   "execution_count": null,
   "id": "d9fea250",
   "metadata": {
    "papermill": {
     "duration": 0.004226,
     "end_time": "2025-04-26T18:05:33.540631",
     "exception": false,
     "start_time": "2025-04-26T18:05:33.536405",
     "status": "completed"
    },
    "tags": []
   },
   "outputs": [],
   "source": []
  },
  {
   "cell_type": "markdown",
   "id": "710cf653",
   "metadata": {
    "papermill": {
     "duration": 0.004025,
     "end_time": "2025-04-26T18:05:33.549027",
     "exception": false,
     "start_time": "2025-04-26T18:05:33.545002",
     "status": "completed"
    },
    "tags": []
   },
   "source": [
    "<h2>V. Baseline Predictions</h2>"
   ]
  },
  {
   "cell_type": "code",
   "execution_count": 6,
   "id": "206beead",
   "metadata": {
    "execution": {
     "iopub.execute_input": "2025-04-26T18:05:33.559004Z",
     "iopub.status.busy": "2025-04-26T18:05:33.558678Z",
     "iopub.status.idle": "2025-04-26T18:05:34.467058Z",
     "shell.execute_reply": "2025-04-26T18:05:34.465997Z"
    },
    "papermill": {
     "duration": 0.915583,
     "end_time": "2025-04-26T18:05:34.468930",
     "exception": false,
     "start_time": "2025-04-26T18:05:33.553347",
     "status": "completed"
    },
    "tags": []
   },
   "outputs": [
    {
     "name": "stdout",
     "output_type": "stream",
     "text": [
      "Predict Everything to 3: RMSE=:1.2585510334053043\n",
      "Predict to User Average: RMSE=:1.0352910334228647\n"
     ]
    }
   ],
   "source": [
    "# From week 3 assignment\n",
    "rs = RecSys(data)\n",
    "yp_everything_to_3 = rs.predict_everything_to_3()\n",
    "rmse_everything_to_3 = rs.rmse(yp_everything_to_3)\n",
    "print(f\"Predict Everything to 3: RMSE=:{rmse_everything_to_3}\")\n",
    "yp_to_user_average = rs.predict_to_user_average()\n",
    "rmse_to_user_average = rs.rmse(yp_to_user_average)\n",
    "print(f\"Predict to User Average: RMSE=:{rmse_to_user_average}\")\n"
   ]
  },
  {
   "cell_type": "markdown",
   "id": "a4deba79",
   "metadata": {
    "papermill": {
     "duration": 0.004452,
     "end_time": "2025-04-26T18:05:34.478061",
     "exception": false,
     "start_time": "2025-04-26T18:05:34.473609",
     "status": "completed"
    },
    "tags": []
   },
   "source": [
    "<h2>VI. NMF Predictions with static hyper-parameter</h2>"
   ]
  },
  {
   "cell_type": "code",
   "execution_count": 7,
   "id": "882a53ee",
   "metadata": {
    "execution": {
     "iopub.execute_input": "2025-04-26T18:05:34.488491Z",
     "iopub.status.busy": "2025-04-26T18:05:34.488095Z",
     "iopub.status.idle": "2025-04-26T18:06:03.187875Z",
     "shell.execute_reply": "2025-04-26T18:06:03.185265Z"
    },
    "papermill": {
     "duration": 28.707523,
     "end_time": "2025-04-26T18:06:03.190040",
     "exception": false,
     "start_time": "2025-04-26T18:05:34.482517",
     "status": "completed"
    },
    "tags": []
   },
   "outputs": [
    {
     "name": "stdout",
     "output_type": "stream",
     "text": [
      "Matrix Factorization (n_components=20): RMSE: 2.538\n"
     ]
    }
   ],
   "source": [
    "# NMF prediction with n_component =20\n",
    "clf = NMF(n_components=20)\n",
    "predicted_ratings = rs.predict_from_matrix_factorization(clf)\n",
    "rmse_nmf_20 = rs.rmse(predicted_ratings)\n",
    "print(f\"Matrix Factorization (n_components=20): RMSE: {rmse_nmf_20:.3f}\")"
   ]
  },
  {
   "cell_type": "markdown",
   "id": "792ff0b9",
   "metadata": {
    "papermill": {
     "duration": 0.004929,
     "end_time": "2025-04-26T18:06:03.199985",
     "exception": false,
     "start_time": "2025-04-26T18:06:03.195056",
     "status": "completed"
    },
    "tags": []
   },
   "source": [
    "<h2>VI. Hyper-parameter tuning</h2>"
   ]
  },
  {
   "cell_type": "code",
   "execution_count": 8,
   "id": "4de579c5",
   "metadata": {
    "execution": {
     "iopub.execute_input": "2025-04-26T18:06:03.211233Z",
     "iopub.status.busy": "2025-04-26T18:06:03.210792Z",
     "iopub.status.idle": "2025-04-26T18:10:26.717379Z",
     "shell.execute_reply": "2025-04-26T18:10:26.716365Z"
    },
    "papermill": {
     "duration": 263.514318,
     "end_time": "2025-04-26T18:10:26.719003",
     "exception": false,
     "start_time": "2025-04-26T18:06:03.204685",
     "status": "completed"
    },
    "tags": []
   },
   "outputs": [
    {
     "name": "stdout",
     "output_type": "stream",
     "text": [
      "n_components = 5, RMSE = 2.609\n",
      "n_components = 10, RMSE = 2.567\n",
      "n_components = 15, RMSE = 2.545\n",
      "n_components = 20, RMSE = 2.538\n",
      "n_components = 30, RMSE = 2.536\n",
      "n_components = 40, RMSE = 2.547\n",
      "n_components = 50, RMSE = 2.552\n",
      "n_components = 60, RMSE = 2.563\n",
      "Best RMSE value with NMF prediction(n_components = 60), RMSE = 2.563\n"
     ]
    },
    {
     "data": {
      "image/png": "[encoded data removed]",
      "text/plain": [
       "<Figure size 800x600 with 1 Axes>"
      ]
     },
     "metadata": {},
     "output_type": "display_data"
    }
   ],
   "source": [
    "# import matplotlib.pyplot as plt\n",
    "# from sklearn.decomposition import NMF\n",
    "# from math import sqrt\n",
    "# from sklearn.metrics import mean_squared_error\n",
    "# import numpy as np\n",
    "\n",
    "n_component_values = [5, 10, 15, 20, 30, 40, 50, 60]\n",
    "rmse_values = []\n",
    "\n",
    "best_nmf_comp =0\n",
    "best_nmf_rmse= 0\n",
    "\n",
    "for comp in n_component_values:\n",
    "    clf = NMF(n_components=comp)\n",
    "    predicted_ratings = rs.predict_from_matrix_factorization(clf)\n",
    "    true_ratings = np.array(rs.data.test['rating'])\n",
    "    rmse = rs.rmse(predicted_ratings)    \n",
    "    print(f\"n_components = {comp}, RMSE = {rmse:.3f}\")\n",
    "    if rmse < best_nmf_rmse:\n",
    "        best_nmf_rmse = rmse\n",
    "        best_nmf_comp = comp\n",
    "    rmse_values.append(rmse)\n",
    "    \n",
    "print(f\"Best RMSE value with NMF prediction(n_components = {comp}), RMSE = {rmse:.3f}\")\n",
    "plt.figure(figsize=(8,6))\n",
    "plt.plot(n_component_values, rmse_values, marker='o')\n",
    "plt.title('RMSE vs. n_components for NMF')\n",
    "plt.xlabel('Number of Components (n_components)')\n",
    "plt.ylabel('RMSE')\n",
    "plt.grid(True)\n",
    "plt.show()\n"
   ]
  },
  {
   "cell_type": "markdown",
   "id": "7c92889a",
   "metadata": {
    "papermill": {
     "duration": 0.005497,
     "end_time": "2025-04-26T18:10:26.730875",
     "exception": false,
     "start_time": "2025-04-26T18:10:26.725378",
     "status": "completed"
    },
    "tags": []
   },
   "source": []
  },
  {
   "cell_type": "code",
   "execution_count": 9,
   "id": "36034621",
   "metadata": {
    "execution": {
     "iopub.execute_input": "2025-04-26T18:10:26.744331Z",
     "iopub.status.busy": "2025-04-26T18:10:26.743923Z",
     "iopub.status.idle": "2025-04-26T18:10:26.756668Z",
     "shell.execute_reply": "2025-04-26T18:10:26.755218Z"
    },
    "papermill": {
     "duration": 0.021512,
     "end_time": "2025-04-26T18:10:26.758655",
     "exception": false,
     "start_time": "2025-04-26T18:10:26.737143",
     "status": "completed"
    },
    "tags": []
   },
   "outputs": [],
   "source": [
    "# Creating Sample test data\n",
    "np.random.seed(42)\n",
    "sample_train = train[:30000]\n",
    "sample_test = test[:30000]\n",
    "sample_MV_users = MV_users[(MV_users.uID.isin(sample_train.uID)) | (MV_users.uID.isin(sample_test.uID))]\n",
    "sample_MV_movies = MV_movies[(MV_movies.mID.isin(sample_train.mID)) | (MV_movies.mID.isin(sample_test.mID))]\n",
    "sample_data = Data(sample_MV_users, sample_MV_movies, sample_train, sample_test)"
   ]
  },
  {
   "cell_type": "code",
   "execution_count": 10,
   "id": "c6331d51",
   "metadata": {
    "execution": {
     "iopub.execute_input": "2025-04-26T18:10:26.772367Z",
     "iopub.status.busy": "2025-04-26T18:10:26.772051Z",
     "iopub.status.idle": "2025-04-26T18:10:26.778911Z",
     "shell.execute_reply": "2025-04-26T18:10:26.778032Z"
    },
    "papermill": {
     "duration": 0.016066,
     "end_time": "2025-04-26T18:10:26.780761",
     "exception": false,
     "start_time": "2025-04-26T18:10:26.764695",
     "status": "completed"
    },
    "tags": []
   },
   "outputs": [],
   "source": [
    "\n",
    "# class ContentBased(RecSys):\n",
    "#     def __init__(self,data):\n",
    "#         super().__init__(data)\n",
    "#         self.data=data\n",
    "#         self.Mm = self.calc_movie_feature_matrix()  \n",
    "        \n",
    "#     def calc_movie_feature_matrix(self):\n",
    "#         \"\"\"\n",
    "#         Create movie feature matrix in a numpy array of shape (#allmovies, #genres) \n",
    "#         \"\"\"\n",
    "#         # your code here\n",
    "#         movie_feature_matrix = self.data.movies[self.genres].values\n",
    "#         return csr_matrix(movie_feature_matrix)\n",
    "    \n",
    "    \n",
    "#     def calc_item_item_similarity(self):\n",
    "#         \"\"\"\n",
    "#         Create item-item similarity using Jaccard similarity\n",
    "#         \"\"\"\n",
    "#         # Update the sim matrix by calculating item-item similarity using Jaccard similarity\n",
    "#         # Jaccard Similarity: J(A, B) = |A∩B| / |A∪B| \n",
    "#         # your code here\n",
    "#         # using functions in the scipy.spatial.distance to speed up calculation\n",
    "#         # jaccard similiarity = 1 - jaccard_distance \n",
    "#         jaccard_distances = pdist(self.Mm.toarray(), 'jaccard')  \n",
    "#         self.sim = 1 - squareform(jaccard_distances)\n",
    "        \n",
    "                \n",
    "# class Collaborative(RecSys):            \n",
    "#     def calc_item_item_similarity(self, simfunction, *X):  \n",
    "#         \"\"\"\n",
    "#         Create item-item similarity using similarity function. \n",
    "#         X is an optional transformed matrix of Mr\n",
    "#         \"\"\"    \n",
    "#         # General function that calculates item-item similarity based on the sim function and data inputed\n",
    "#         if len(X)==0:\n",
    "#             self.sim = simfunction()            \n",
    "#         else:\n",
    "#             self.sim = simfunction(X[0]) # *X passes in a tuple format of (X,), to X[0] will be the actual transformed matrix\n",
    "            \n",
    "#     def cossim(self):    \n",
    "#         \"\"\"\n",
    "#         Calculates item-item similarity for all pairs of items using cosine similarity (values from 0 to 1) on utility matrix\n",
    "#         Returns a cosine similarity matrix of size (#all movies, #all movies)\n",
    "#         \"\"\"\n",
    "#         # Return a sim matrix by calculating item-item similarity for all pairs of items using Jaccard similarity\n",
    "#         # Cosine Similarity: C(A, B) = (A.B) / (||A||.||B||) \n",
    "#         # your code here\n",
    "#         # Using the hint:\n",
    "#         #  \"Impute the unrated entries in self.Mr to the user's average rating\n",
    "#         #.     then subtract by the user mean, call this matrix X.\"\n",
    "        \n",
    "#         user_means = np.nanmean(np.where(self.Mr != 0, self.Mr, np.nan), axis=1, keepdims=True)\n",
    "#         Mr_imputed = np.where((self.Mr == 0), user_means, self.Mr)          \n",
    "#         Xr = Mr_imputed - user_means\n",
    "        \n",
    "#         Xr = np.nan_to_num(Xr, nan=0.0)        \n",
    "#         Xr_sparse = csr_matrix(Xr.T)\n",
    "#         self.sim = 0.5 * (1+cosine_similarity(Xr_sparse))\n",
    "#         np.fill_diagonal(self.sim, 1)        \n",
    "# #         Xr = Mr_imputed - user_means \n",
    "# #         if np.isnan(Xr).any():\n",
    "# #             Xr = np.nan_to_num(Xr)\n",
    "\n",
    "# #         num_items = Xr.shape[1]\n",
    "# #         self.sim = np.zeros((num_items, num_items))\n",
    "# #         for i in range(num_items):\n",
    "# #             for j in range(i, num_items):\n",
    "# #                 if i == j:\n",
    "# #                     self.sim[i, j] = 1\n",
    "# #                 else:\n",
    "# #                     dist = cosine(self.Mr[:, i], self.Mr[:, j])\n",
    "# #                     self.sim[i, j] = 1 - dist\n",
    "# #                     self.sim[j, i] = 1 - dist\n",
    "#         self.sim = np.clip(self.sim, 0, 1)\n",
    "#         return self.sim\n",
    "\n",
    "        \n",
    "#     def jacsim(self,Xr):\n",
    "#         \"\"\"\n",
    "#         Calculates item-item similarity for all pairs of items using jaccard similarity (values from 0 to 1)\n",
    "#         Xr is the transformed rating matrix.\n",
    "#         \"\"\"    \n",
    "#         # Return a sim matrix by calculating item-item similarity for all pairs of items using Jaccard similarity\n",
    "#         # Jaccard Similarity: J(A, B) = |A∩B| / |A∪B| \n",
    "#         # your code here\n",
    "#         # ref: https://docs.scipy.org/doc/scipy-1.12.0/reference/generated/scipy.spatial.distance.pdist.html\n",
    "#         Xr = csr_matrix(Xr)\n",
    "        \n",
    "#         Xr = (Xr != 0).astype(int)\n",
    "# #         jaccard_distances = pdist(Xr.T.toarray(), metric='jaccard')\n",
    "# #         np.fill_diagonal(self.sim, 1)\n",
    "\n",
    "#         n = Xr.shape[1]\n",
    "#         maxr = int(Xr.max())\n",
    "#         if maxr>1:\n",
    "#             intersection = np.zeros((n,n)).astype(int)\n",
    "#             for i in range(1, maxr+1):\n",
    "#                 csr = csr_matrix((Xr==i).astype(int))\n",
    "#                 intersection = intersection + np.array(csr.T.dot(csr).toarray()).astype(int)    \n",
    "        \n",
    "#         # Convert Xr into a CSR format\n",
    "#         csr0 = csr_matrix((Xr>0).astype(int))\n",
    "        \n",
    "#         # Take the dot product\n",
    "#         nz_inter = np.array(csr0.T.dot(csr0).toarray()).astype(int)   \n",
    "        \n",
    "#         # Formula JS:\n",
    "#         A = (Xr>0).astype(bool)\n",
    "#         rowsum = A.sum(axis=0)\n",
    "#         rsumtile = np.repeat(rowsum.reshape((n,1)),n,axis=1)   \n",
    "#         union = rsumtile.T + rsumtile - nz_inter\n",
    "        \n",
    "#         # Perform the two boundary checks:-\n",
    "#         #  - since dividing by magnitude may produce inf, zeros, etc. Set nans to 0.\n",
    "#         #  - Covariance/correlation values for np.dot([M.T, M]) matrix should have \n",
    "#         #    diagonal set to 1.\n",
    "#         with np.errstate(divide='ignore', invalid='ignore'):\n",
    "#             self.sim = nz_inter / union\n",
    "#             self.sim[np.isnan(self.sim)] = 0\n",
    "#             self.sim[np.isinf(self.sim)] = 0\n",
    "    \n",
    "#         np.fill_diagonal(self.sim, 1)\n",
    "#         self.sim = np.clip(self.sim, 0, 1)\n",
    "\n",
    "#         return self.sim\n",
    "\n"
   ]
  },
  {
   "cell_type": "code",
   "execution_count": null,
   "id": "63f3639a",
   "metadata": {
    "papermill": {
     "duration": 0.00553,
     "end_time": "2025-04-26T18:10:26.793107",
     "exception": false,
     "start_time": "2025-04-26T18:10:26.787577",
     "status": "completed"
    },
    "tags": []
   },
   "outputs": [],
   "source": []
  },
  {
   "cell_type": "code",
   "execution_count": null,
   "id": "b626d67b",
   "metadata": {
    "papermill": {
     "duration": 0.005591,
     "end_time": "2025-04-26T18:10:26.804292",
     "exception": false,
     "start_time": "2025-04-26T18:10:26.798701",
     "status": "completed"
    },
    "tags": []
   },
   "outputs": [],
   "source": []
  }
 ],
 "metadata": {
  "kaggle": {
   "accelerator": "none",
   "dataSources": [
    {
     "datasetId": 7253935,
     "sourceId": 11570251,
     "sourceType": "datasetVersion"
    }
   ],
   "dockerImageVersionId": 31012,
   "isGpuEnabled": false,
   "isInternetEnabled": true,
   "language": "python",
   "sourceType": "notebook"
  },
  "kernelspec": {
   "display_name": "Python 3",
   "language": "python",
   "name": "python3"
  },
  "language_info": {
   "codemirror_mode": {
    "name": "ipython",
    "version": 3
   },
   "file_extension": ".py",
   "mimetype": "text/x-python",
   "name": "python",
   "nbconvert_exporter": "python",
   "pygments_lexer": "ipython3",
   "version": "3.11.11"
  },
  "papermill": {
   "default_parameters": {},
   "duration": 304.094941,
   "end_time": "2025-04-26T18:10:27.531876",
   "environment_variables": {},
   "exception": null,
   "input_path": "__notebook__.ipynb",
   "output_path": "__notebook__.ipynb",
   "parameters": {},
   "start_time": "2025-04-26T18:05:23.436935",
   "version": "2.6.0"
  }
 },
 "nbformat": 4,
 "nbformat_minor": 5
}
