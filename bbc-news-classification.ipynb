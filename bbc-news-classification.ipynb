{
 "cells": [
  {
   "cell_type": "markdown",
   "id": "1fed438b",
   "metadata": {
    "papermill": {
     "duration": 0.002255,
     "end_time": "2025-04-20T23:37:00.963897",
     "exception": false,
     "start_time": "2025-04-20T23:37:00.961642",
     "status": "completed"
    },
    "tags": []
   },
   "source": [
    "\n",
    "# BBC News Classification\n",
    "<p>CSCA-5632 Unsupervised Algorithms in Machine Learning</p>\n",
    "<p>University of Colorado Boulder</p>\n",
    "<p>@author alme9155@colorado.edu</p>\n",
    "<hr/>\n",
    "\n",
    "## Project Overview:\n",
    "### This class project categorizes news articles using matrix factorization to predict the categories. \n",
    "\n",
    "This notebook includes the following:\n",
    "* Brief EDA procedures\n",
    "* Matrix factorization model building and training\n",
    "* Model predictions and results\n",
    "* Prediction results comparison with Supervised Learning\n",
    "\n",
    "### Description\n",
    "This project will use a public dataset from the BBC comprised of 2225 articles, each labeled under one of the five categories: business, entertainment, politics, sport, or tech. It is a balanced dataset that. Each category has about 400~500 articles, which ensures meaningful classification.\n",
    "\n",
    "[@misc{learn-ai-bbc,\n",
    "    author = {Bijoy Bose},\n",
    "    title = {BBC News Classification},\n",
    "    year = {2019},\n",
    "    howpublished = {\\url{https://kaggle.com/competitions/learn-ai-bbc}},\n",
    "    note = {Kaggle}\n",
    "}](https://kaggle.com/competitions/learn-ai-bbc})"
   ]
  },
  {
   "cell_type": "code",
   "execution_count": 1,
   "id": "3757b243",
   "metadata": {
    "execution": {
     "iopub.execute_input": "2025-04-20T23:37:00.968792Z",
     "iopub.status.busy": "2025-04-20T23:37:00.968361Z",
     "iopub.status.idle": "2025-04-20T23:37:15.002670Z",
     "shell.execute_reply": "2025-04-20T23:37:15.001336Z"
    },
    "papermill": {
     "duration": 14.038915,
     "end_time": "2025-04-20T23:37:15.004603",
     "exception": false,
     "start_time": "2025-04-20T23:37:00.965688",
     "status": "completed"
    },
    "tags": []
   },
   "outputs": [],
   "source": [
    "from collections import Counter\n",
    "import numpy as np\n",
    "import pandas as pd\n",
    "import seaborn as sns\n",
    "import matplotlib.pyplot as plt\n",
    "import spacy\n",
    "from sklearn.model_selection import train_test_split, GridSearchCV\n",
    "from sklearn.feature_extraction.text import TfidfVectorizer\n",
    "from sklearn.decomposition import NMF\n",
    "from sklearn.metrics import make_scorer, accuracy_score, confusion_matrix, ConfusionMatrixDisplay\n",
    "from sklearn.pipeline import Pipeline\n",
    "from sklearn.preprocessing import LabelEncoder\n",
    "from sklearn.base import BaseEstimator, TransformerMixin\n",
    "\n",
    "import warnings\n",
    "warnings.simplefilter(action='ignore', category=FutureWarning)\n",
    "\n",
    "import os\n",
    "for dirname, _, filenames in os.walk('/kaggle/input'):\n",
    "    for filename in filenames:\n",
    "        print(os.path.join(dirname, filename))\n",
    "\n"
   ]
  },
  {
   "cell_type": "code",
   "execution_count": null,
   "id": "c4594b11",
   "metadata": {
    "papermill": {
     "duration": 0.001301,
     "end_time": "2025-04-20T23:37:15.007736",
     "exception": false,
     "start_time": "2025-04-20T23:37:15.006435",
     "status": "completed"
    },
    "tags": []
   },
   "outputs": [],
   "source": []
  },
  {
   "cell_type": "code",
   "execution_count": null,
   "id": "1f041bc9",
   "metadata": {
    "papermill": {
     "duration": 0.001179,
     "end_time": "2025-04-20T23:37:15.010357",
     "exception": false,
     "start_time": "2025-04-20T23:37:15.009178",
     "status": "completed"
    },
    "tags": []
   },
   "outputs": [],
   "source": []
  },
  {
   "cell_type": "code",
   "execution_count": null,
   "id": "ea05eac7",
   "metadata": {
    "papermill": {
     "duration": 0.001173,
     "end_time": "2025-04-20T23:37:15.012862",
     "exception": false,
     "start_time": "2025-04-20T23:37:15.011689",
     "status": "completed"
    },
    "tags": []
   },
   "outputs": [],
   "source": []
  }
 ],
 "metadata": {
  "kaggle": {
   "accelerator": "none",
   "dataSources": [],
   "dockerImageVersionId": 31012,
   "isGpuEnabled": false,
   "isInternetEnabled": false,
   "language": "python",
   "sourceType": "notebook"
  },
  "kernelspec": {
   "display_name": "Python 3",
   "language": "python",
   "name": "python3"
  },
  "language_info": {
   "codemirror_mode": {
    "name": "ipython",
    "version": 3
   },
   "file_extension": ".py",
   "mimetype": "text/x-python",
   "name": "python",
   "nbconvert_exporter": "python",
   "pygments_lexer": "ipython3",
   "version": "3.11.11"
  },
  "papermill": {
   "default_parameters": {},
   "duration": 21.177661,
   "end_time": "2025-04-20T23:37:17.219138",
   "environment_variables": {},
   "exception": null,
   "input_path": "__notebook__.ipynb",
   "output_path": "__notebook__.ipynb",
   "parameters": {},
   "start_time": "2025-04-20T23:36:56.041477",
   "version": "2.6.0"
  }
 },
 "nbformat": 4,
 "nbformat_minor": 5
}
