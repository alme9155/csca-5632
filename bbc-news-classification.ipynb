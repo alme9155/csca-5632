{
 "cells": [
  {
   "cell_type": "markdown",
   "id": "69ea62ad",
   "metadata": {
    "papermill": {
     "duration": 0.002027,
     "end_time": "2025-04-21T05:27:22.109292",
     "exception": false,
     "start_time": "2025-04-21T05:27:22.107265",
     "status": "completed"
    },
    "tags": []
   },
   "source": [
    "\n",
    "# BBC News Classification\n",
    "<p>CSCA-5632 Unsupervised Algorithms in Machine Learning</p>\n",
    "<p>University of Colorado Boulder</p>\n",
    "<p>@author alme9155@colorado.edu</p>\n",
    "<hr/>\n",
    "\n",
    "## Project Overview:\n",
    "### This class project categorizes news articles using matrix factorization to predict the categories. \n",
    "\n",
    "This notebook includes the following:\n",
    "* Brief EDA procedures\n",
    "* Matrix factorization model building and training\n",
    "* Model predictions and results\n",
    "* Prediction results comparison with Supervised Learning\n",
    "\n",
    "### Description\n",
    "This project will use a public dataset from the BBC comprised of 2225 articles, each labeled under one of the five categories: business, entertainment, politics, sport, or tech. It is a balanced dataset that. Each category has about 400~500 articles, which ensures meaningful classification.\n",
    "\n",
    "<ul>\n",
    "<li>Data source: <a url=\"https://kaggle.com/competitions/learn-ai-bbc\">https://kaggle.com/competition/learn-ai-bbc</a></li>\n",
    "<li>Bijoy Bose. BBC News Classification</li>\n",
    "<li>year: 2019</li>\n",
    "</ul>"
   ]
  },
  {
   "cell_type": "code",
   "execution_count": 1,
   "id": "d6e84613",
   "metadata": {
    "execution": {
     "iopub.execute_input": "2025-04-21T05:27:22.113606Z",
     "iopub.status.busy": "2025-04-21T05:27:22.113327Z",
     "iopub.status.idle": "2025-04-21T05:27:33.997513Z",
     "shell.execute_reply": "2025-04-21T05:27:33.996602Z"
    },
    "papermill": {
     "duration": 11.887799,
     "end_time": "2025-04-21T05:27:33.998740",
     "exception": false,
     "start_time": "2025-04-21T05:27:22.110941",
     "status": "completed"
    },
    "tags": []
   },
   "outputs": [
    {
     "name": "stdout",
     "output_type": "stream",
     "text": [
      "/kaggle/input/learn-ai-bbc/BBC News Train.csv\n",
      "/kaggle/input/learn-ai-bbc/BBC News Sample Solution.csv\n",
      "/kaggle/input/learn-ai-bbc/BBC News Test.csv\n"
     ]
    }
   ],
   "source": [
    "from collections import Counter\n",
    "import numpy as np\n",
    "import pandas as pd\n",
    "import seaborn as sns\n",
    "import matplotlib.pyplot as plt\n",
    "import spacy\n",
    "from sklearn.model_selection import train_test_split, GridSearchCV\n",
    "from sklearn.feature_extraction.text import TfidfVectorizer\n",
    "from sklearn.decomposition import NMF\n",
    "from sklearn.metrics import make_scorer, accuracy_score, confusion_matrix, ConfusionMatrixDisplay\n",
    "from sklearn.pipeline import Pipeline\n",
    "from sklearn.preprocessing import LabelEncoder\n",
    "from sklearn.base import BaseEstimator, TransformerMixin\n",
    "\n",
    "import warnings\n",
    "warnings.simplefilter(action='ignore', category=FutureWarning)\n",
    "\n",
    "import os\n",
    "for dirname, _, filenames in os.walk('/kaggle/input/learn-ai-bbc'):\n",
    "    for filename in filenames:\n",
    "        print(os.path.join(dirname, filename))"
   ]
  },
  {
   "cell_type": "markdown",
   "id": "c47e2a79",
   "metadata": {
    "papermill": {
     "duration": 0.001281,
     "end_time": "2025-04-21T05:27:34.001832",
     "exception": false,
     "start_time": "2025-04-21T05:27:34.000551",
     "status": "completed"
    },
    "tags": []
   },
   "source": [
    "## Exploratory Data Analysis\n",
    "\n"
   ]
  },
  {
   "cell_type": "code",
   "execution_count": 2,
   "id": "a7bdcc46",
   "metadata": {
    "execution": {
     "iopub.execute_input": "2025-04-21T05:27:34.005851Z",
     "iopub.status.busy": "2025-04-21T05:27:34.005403Z",
     "iopub.status.idle": "2025-04-21T05:27:34.158956Z",
     "shell.execute_reply": "2025-04-21T05:27:34.158120Z"
    },
    "papermill": {
     "duration": 0.156769,
     "end_time": "2025-04-21T05:27:34.160023",
     "exception": false,
     "start_time": "2025-04-21T05:27:34.003254",
     "status": "completed"
    },
    "tags": []
   },
   "outputs": [
    {
     "name": "stdout",
     "output_type": "stream",
     "text": [
      "\n"
     ]
    }
   ],
   "source": [
    "# EDA process\n",
    "# 1. load the dataset\n",
    "# 2. inspect the data\n",
    "try:\n",
    "    ## loading the data\n",
    "    train = pd.read_csv('/kaggle/input/learn-ai-bbc/BBC News Train.csv')\n",
    "    test = pd.read_csv('/kaggle/input/learn-ai-bbc/BBC News Test.csv')\n",
    "\n",
    "    print(f\"\")\n",
    "except FileNotFoundError:\n",
    "    print(f\"Error reading the train/test dataset\")\n",
    "\n"
   ]
  },
  {
   "cell_type": "markdown",
   "id": "bc3aabdd",
   "metadata": {
    "papermill": {
     "duration": 0.001445,
     "end_time": "2025-04-21T05:27:34.163395",
     "exception": false,
     "start_time": "2025-04-21T05:27:34.161950",
     "status": "completed"
    },
    "tags": []
   },
   "source": []
  },
  {
   "cell_type": "markdown",
   "id": "ed79dd80",
   "metadata": {
    "papermill": {
     "duration": 0.001327,
     "end_time": "2025-04-21T05:27:34.166230",
     "exception": false,
     "start_time": "2025-04-21T05:27:34.164903",
     "status": "completed"
    },
    "tags": []
   },
   "source": []
  },
  {
   "cell_type": "markdown",
   "id": "aad3dae4",
   "metadata": {
    "papermill": {
     "duration": 0.001267,
     "end_time": "2025-04-21T05:27:34.169002",
     "exception": false,
     "start_time": "2025-04-21T05:27:34.167735",
     "status": "completed"
    },
    "tags": []
   },
   "source": []
  },
  {
   "cell_type": "code",
   "execution_count": null,
   "id": "2867aca9",
   "metadata": {
    "papermill": {
     "duration": 0.002381,
     "end_time": "2025-04-21T05:27:34.172868",
     "exception": false,
     "start_time": "2025-04-21T05:27:34.170487",
     "status": "completed"
    },
    "tags": []
   },
   "outputs": [],
   "source": []
  },
  {
   "cell_type": "code",
   "execution_count": null,
   "id": "0aa88f05",
   "metadata": {
    "papermill": {
     "duration": 0.001219,
     "end_time": "2025-04-21T05:27:34.175526",
     "exception": false,
     "start_time": "2025-04-21T05:27:34.174307",
     "status": "completed"
    },
    "tags": []
   },
   "outputs": [],
   "source": []
  }
 ],
 "metadata": {
  "kaggle": {
   "accelerator": "none",
   "dataSources": [
    {
     "databundleVersionId": 324297,
     "sourceId": 13351,
     "sourceType": "competition"
    }
   ],
   "dockerImageVersionId": 31012,
   "isGpuEnabled": false,
   "isInternetEnabled": false,
   "language": "python",
   "sourceType": "notebook"
  },
  "kernelspec": {
   "display_name": "Python 3",
   "language": "python",
   "name": "python3"
  },
  "language_info": {
   "codemirror_mode": {
    "name": "ipython",
    "version": 3
   },
   "file_extension": ".py",
   "mimetype": "text/x-python",
   "name": "python",
   "nbconvert_exporter": "python",
   "pygments_lexer": "ipython3",
   "version": "3.11.11"
  },
  "papermill": {
   "default_parameters": {},
   "duration": 17.601785,
   "end_time": "2025-04-21T05:27:35.900083",
   "environment_variables": {},
   "exception": null,
   "input_path": "__notebook__.ipynb",
   "output_path": "__notebook__.ipynb",
   "parameters": {},
   "start_time": "2025-04-21T05:27:18.298298",
   "version": "2.6.0"
  }
 },
 "nbformat": 4,
 "nbformat_minor": 5
}
