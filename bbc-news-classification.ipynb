{
 "cells": [
  {
   "cell_type": "markdown",
   "id": "439652be",
   "metadata": {
    "papermill": {
     "duration": 0.002576,
     "end_time": "2025-04-21T17:31:55.084302",
     "exception": false,
     "start_time": "2025-04-21T17:31:55.081726",
     "status": "completed"
    },
    "tags": []
   },
   "source": [
    "\n",
    "# BBC News Classification\n",
    "<p>CSCA-5632 Unsupervised Algorithms in Machine Learning</p>\n",
    "<p>University of Colorado Boulder</p>\n",
    "<p>@author alme9155@colorado.edu</p>\n",
    "<hr/>\n",
    "\n",
    "## Project Overview:\n",
    "### This class project categorizes news articles using matrix factorization to predict the categories. \n",
    "\n",
    "This notebook includes the following:\n",
    "* Brief EDA procedures\n",
    "* Matrix factorization model building and training\n",
    "* Model predictions and results\n",
    "* Prediction results comparison with Supervised Learning\n",
    "\n",
    "### Description\n",
    "This project will use a public dataset from the BBC comprised of 2225 articles, each labeled under one of the five categories: business, entertainment, politics, sport, or tech. It is a balanced dataset that. Each category has about 400~500 articles, which ensures meaningful classification.\n",
    "\n",
    "<ul>\n",
    "<li>Data source: <a url=\"https://kaggle.com/competitions/learn-ai-bbc\">https://kaggle.com/competition/learn-ai-bbc</a></li>\n",
    "<li>Bijoy Bose. BBC News Classification</li>\n",
    "<li>year: 2019</li>\n",
    "</ul>"
   ]
  },
  {
   "cell_type": "code",
   "execution_count": 1,
   "id": "e25a1070",
   "metadata": {
    "execution": {
     "iopub.execute_input": "2025-04-21T17:31:55.090697Z",
     "iopub.status.busy": "2025-04-21T17:31:55.089829Z",
     "iopub.status.idle": "2025-04-21T17:32:07.511550Z",
     "shell.execute_reply": "2025-04-21T17:32:07.510570Z"
    },
    "papermill": {
     "duration": 12.426305,
     "end_time": "2025-04-21T17:32:07.513040",
     "exception": false,
     "start_time": "2025-04-21T17:31:55.086735",
     "status": "completed"
    },
    "tags": []
   },
   "outputs": [
    {
     "name": "stdout",
     "output_type": "stream",
     "text": [
      "/kaggle/input/learn-ai-bbc/BBC News Train.csv\n",
      "/kaggle/input/learn-ai-bbc/BBC News Sample Solution.csv\n",
      "/kaggle/input/learn-ai-bbc/BBC News Test.csv\n"
     ]
    }
   ],
   "source": [
    "from collections import Counter\n",
    "import numpy as np\n",
    "import pandas as pd\n",
    "import seaborn as sns\n",
    "import matplotlib.pyplot as plt\n",
    "import spacy\n",
    "from sklearn.model_selection import train_test_split, GridSearchCV\n",
    "from sklearn.feature_extraction.text import TfidfVectorizer\n",
    "from sklearn.decomposition import NMF\n",
    "from sklearn.metrics import make_scorer, accuracy_score, confusion_matrix, ConfusionMatrixDisplay\n",
    "from sklearn.pipeline import Pipeline\n",
    "from sklearn.preprocessing import LabelEncoder\n",
    "from sklearn.base import BaseEstimator, TransformerMixin\n",
    "\n",
    "import warnings\n",
    "warnings.simplefilter(action='ignore', category=FutureWarning)\n",
    "\n",
    "import os\n",
    "for dirname, _, filenames in os.walk('/kaggle/input/learn-ai-bbc'):\n",
    "    for filename in filenames:\n",
    "        print(os.path.join(dirname, filename))"
   ]
  },
  {
   "cell_type": "markdown",
   "id": "43a10d03",
   "metadata": {
    "papermill": {
     "duration": 0.001821,
     "end_time": "2025-04-21T17:32:07.517155",
     "exception": false,
     "start_time": "2025-04-21T17:32:07.515334",
     "status": "completed"
    },
    "tags": []
   },
   "source": [
    "## Exploratory Data Analysis\n",
    "\n"
   ]
  },
  {
   "cell_type": "code",
   "execution_count": 2,
   "id": "775aa38f",
   "metadata": {
    "execution": {
     "iopub.execute_input": "2025-04-21T17:32:07.522779Z",
     "iopub.status.busy": "2025-04-21T17:32:07.521972Z",
     "iopub.status.idle": "2025-04-21T17:32:07.744431Z",
     "shell.execute_reply": "2025-04-21T17:32:07.743402Z"
    },
    "papermill": {
     "duration": 0.227015,
     "end_time": "2025-04-21T17:32:07.746125",
     "exception": false,
     "start_time": "2025-04-21T17:32:07.519110",
     "status": "completed"
    },
    "tags": []
   },
   "outputs": [
    {
     "name": "stdout",
     "output_type": "stream",
     "text": [
      "Data loaded successfully.\n",
      "\n",
      "Training Data Info:\n",
      "--------------------------\n",
      "<class 'pandas.core.frame.DataFrame'>\n",
      "RangeIndex: 1490 entries, 0 to 1489\n",
      "Data columns (total 3 columns):\n",
      " #   Column     Non-Null Count  Dtype \n",
      "---  ------     --------------  ----- \n",
      " 0   ArticleId  1490 non-null   int64 \n",
      " 1   Text       1490 non-null   object\n",
      " 2   Category   1490 non-null   object\n",
      "dtypes: int64(1), object(2)\n",
      "memory usage: 35.1+ KB\n",
      "None\n",
      "\n",
      "Testing Data Info:\n",
      "--------------------------\n",
      "<class 'pandas.core.frame.DataFrame'>\n",
      "RangeIndex: 735 entries, 0 to 734\n",
      "Data columns (total 2 columns):\n",
      " #   Column     Non-Null Count  Dtype \n",
      "---  ------     --------------  ----- \n",
      " 0   ArticleId  735 non-null    int64 \n",
      " 1   Text       735 non-null    object\n",
      "dtypes: int64(1), object(1)\n",
      "memory usage: 11.6+ KB\n",
      "None\n",
      "\n",
      "First five rows of training data:\n",
      "--------------------------\n",
      "\n",
      "First five rows of testing data:\n",
      "--------------------------\n",
      "\n",
      "Missing values in Training Set:\n",
      "--------------------------\n",
      "ArticleId    0\n",
      "Text         0\n",
      "Category     0\n",
      "dtype: int64\n",
      "\n",
      "Missing Values in Test Set:\n",
      "--------------------------\n",
      "ArticleId    0\n",
      "Text         0\n",
      "dtype: int64\n"
     ]
    }
   ],
   "source": [
    "# EDA process\n",
    "# 1. load the dataset\n",
    "# 2. inspect the data\n",
    "try:\n",
    "    ## loading the data\n",
    "    train = pd.read_csv('/kaggle/input/learn-ai-bbc/BBC News Train.csv')\n",
    "    test = pd.read_csv('/kaggle/input/learn-ai-bbc/BBC News Test.csv')\n",
    "    print(f\"Data loaded successfully.\")\n",
    "\n",
    "    print(f\"\\nTraining Data Info:\")\n",
    "    print(\"--------------------------\")\n",
    "    print(train.info())\n",
    "    print(f\"\\nTesting Data Info:\")\n",
    "    print(\"--------------------------\")    \n",
    "    print(test.info())\n",
    "\n",
    "    print(f\"\\nFirst five rows of training data:\")\n",
    "    print(\"--------------------------\")    \n",
    "    train.head()\n",
    "    print(f\"\\nFirst five rows of testing data:\")\n",
    "    print(\"--------------------------\")    \n",
    "    test.head()\n",
    "\n",
    "    print(f\"\\nMissing values in Training Set:\")\n",
    "    print(\"--------------------------\")    \n",
    "    print(train.isnull().sum())\n",
    "    print(f\"\\nMissing Values in Test Set:\")\n",
    "    print(\"--------------------------\")    \n",
    "    print(test.isnull().sum())\n",
    "\n",
    "\n",
    "except FileNotFoundError:\n",
    "    print(f\"Error reading the online kaggle train/test dataset\")\n",
    "\n"
   ]
  },
  {
   "cell_type": "markdown",
   "id": "c143913a",
   "metadata": {
    "papermill": {
     "duration": 0.001995,
     "end_time": "2025-04-21T17:32:07.750689",
     "exception": false,
     "start_time": "2025-04-21T17:32:07.748694",
     "status": "completed"
    },
    "tags": []
   },
   "source": [
    "# here is a bar chart of the count of text category\n",
    "plt.figure(figsize=(10, 6))\n",
    "sns.barplot(x=category_counts.index, y=category_counts.values, palette='viridis')\n",
    "plt.title(\"Number of Articles per Category\")\n",
    "plt.xlabel(\"Category\")\n",
    "plt.ylabel(\"Number of Articles\")\n",
    "<!-- plt.xticks(rotation=45)\n",
    "plt.tight_layout()\n",
    "plt.show()\n",
    " -->\n",
    "sns.barplot(y=category_counts.index, x=category_counts.values, palette='magma')\n",
    "plt.xlabel('Number of Articles')\n",
    "plt.ylabel('News Category')\n",
    "plt.tight_layout()\n",
    "plt.show()\n"
   ]
  },
  {
   "cell_type": "markdown",
   "id": "4e83d924",
   "metadata": {
    "papermill": {
     "duration": 0.00181,
     "end_time": "2025-04-21T17:32:07.754549",
     "exception": false,
     "start_time": "2025-04-21T17:32:07.752739",
     "status": "completed"
    },
    "tags": []
   },
   "source": []
  },
  {
   "cell_type": "markdown",
   "id": "7b7177ab",
   "metadata": {
    "papermill": {
     "duration": 0.001782,
     "end_time": "2025-04-21T17:32:07.758285",
     "exception": false,
     "start_time": "2025-04-21T17:32:07.756503",
     "status": "completed"
    },
    "tags": []
   },
   "source": []
  },
  {
   "cell_type": "code",
   "execution_count": null,
   "id": "15aa7084",
   "metadata": {
    "papermill": {
     "duration": 0.00296,
     "end_time": "2025-04-21T17:32:07.763199",
     "exception": false,
     "start_time": "2025-04-21T17:32:07.760239",
     "status": "completed"
    },
    "tags": []
   },
   "outputs": [],
   "source": []
  },
  {
   "cell_type": "code",
   "execution_count": null,
   "id": "e879d814",
   "metadata": {
    "papermill": {
     "duration": 0.00178,
     "end_time": "2025-04-21T17:32:07.766964",
     "exception": false,
     "start_time": "2025-04-21T17:32:07.765184",
     "status": "completed"
    },
    "tags": []
   },
   "outputs": [],
   "source": []
  }
 ],
 "metadata": {
  "kaggle": {
   "accelerator": "none",
   "dataSources": [
    {
     "databundleVersionId": 324297,
     "sourceId": 13351,
     "sourceType": "competition"
    }
   ],
   "dockerImageVersionId": 31012,
   "isGpuEnabled": false,
   "isInternetEnabled": false,
   "language": "python",
   "sourceType": "notebook"
  },
  "kernelspec": {
   "display_name": "Python 3",
   "language": "python",
   "name": "python3"
  },
  "language_info": {
   "codemirror_mode": {
    "name": "ipython",
    "version": 3
   },
   "file_extension": ".py",
   "mimetype": "text/x-python",
   "name": "python",
   "nbconvert_exporter": "python",
   "pygments_lexer": "ipython3",
   "version": "3.11.11"
  },
  "papermill": {
   "default_parameters": {},
   "duration": 20.092475,
   "end_time": "2025-04-21T17:32:10.459019",
   "environment_variables": {},
   "exception": null,
   "input_path": "__notebook__.ipynb",
   "output_path": "__notebook__.ipynb",
   "parameters": {},
   "start_time": "2025-04-21T17:31:50.366544",
   "version": "2.6.0"
  }
 },
 "nbformat": 4,
 "nbformat_minor": 5
}
