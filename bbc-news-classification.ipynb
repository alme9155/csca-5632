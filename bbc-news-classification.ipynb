{
 "cells": [
  {
   "cell_type": "markdown",
   "id": "cfce1297",
   "metadata": {
    "papermill": {
     "duration": 0.0027,
     "end_time": "2025-04-22T19:34:34.563574",
     "exception": false,
     "start_time": "2025-04-22T19:34:34.560874",
     "status": "completed"
    },
    "tags": []
   },
   "source": [
    "\n",
    "# BBC News Classification\n",
    "<p>CSCA-5632 Unsupervised Algorithms in Machine Learning</p>\n",
    "<p>University of Colorado Boulder</p>\n",
    "<p>@author alme9155@colorado.edu</p>\n",
    "<hr/>\n",
    "\n",
    "## I. Project Overview:\n",
    "### This class project categorizes news articles using matrix factorization to predict the categories. \n",
    "\n",
    "This notebook includes the following:\n",
    "* Brief EDA procedures\n",
    "* Matrix factorization model building and training\n",
    "* Model predictions and results\n",
    "* Prediction results comparison with Supervised Learning\n",
    "\n",
    "### Description\n",
    "This project will use a public dataset from the BBC comprised of 2225 articles, each labeled under one of the five categories: business, entertainment, politics, sport, or tech. It is a balanced dataset that. Each category has about 400~500 articles, which ensures meaningful classification.\n",
    "\n",
    "<ul>\n",
    "<li>Data source: <a url=\"https://kaggle.com/competitions/learn-ai-bbc\">https://kaggle.com/competition/learn-ai-bbc</a></li>\n",
    "<li>Bijoy Bose. BBC News Classification</li>\n",
    "<li>year: 2019</li>\n",
    "</ul>"
   ]
  },
  {
   "cell_type": "code",
   "execution_count": 1,
   "id": "8f3bb816",
   "metadata": {
    "execution": {
     "iopub.execute_input": "2025-04-22T19:34:34.569636Z",
     "iopub.status.busy": "2025-04-22T19:34:34.569304Z",
     "iopub.status.idle": "2025-04-22T19:34:48.557178Z",
     "shell.execute_reply": "2025-04-22T19:34:48.555855Z"
    },
    "papermill": {
     "duration": 13.992942,
     "end_time": "2025-04-22T19:34:48.558933",
     "exception": false,
     "start_time": "2025-04-22T19:34:34.565991",
     "status": "completed"
    },
    "tags": []
   },
   "outputs": [
    {
     "name": "stdout",
     "output_type": "stream",
     "text": [
      "/kaggle/input/learn-ai-bbc/BBC News Train.csv\n",
      "/kaggle/input/learn-ai-bbc/BBC News Sample Solution.csv\n",
      "/kaggle/input/learn-ai-bbc/BBC News Test.csv\n"
     ]
    }
   ],
   "source": [
    "from collections import Counter\n",
    "import numpy as np\n",
    "import pandas as pd\n",
    "import seaborn as sns\n",
    "import matplotlib.pyplot as plt\n",
    "import spacy\n",
    "from sklearn.model_selection import train_test_split, GridSearchCV\n",
    "from sklearn.feature_extraction.text import TfidfVectorizer\n",
    "from sklearn.decomposition import NMF\n",
    "from sklearn.metrics import make_scorer, accuracy_score, confusion_matrix, ConfusionMatrixDisplay\n",
    "from sklearn.pipeline import Pipeline\n",
    "from sklearn.preprocessing import LabelEncoder\n",
    "from sklearn.base import BaseEstimator, TransformerMixin\n",
    "\n",
    "import warnings\n",
    "warnings.simplefilter(action='ignore', category=FutureWarning)\n",
    "\n",
    "import os\n",
    "for dirname, _, filenames in os.walk('/kaggle/input/learn-ai-bbc'):\n",
    "    for filename in filenames:\n",
    "        print(os.path.join(dirname, filename))"
   ]
  },
  {
   "cell_type": "markdown",
   "id": "bda04d0b",
   "metadata": {
    "papermill": {
     "duration": 0.002039,
     "end_time": "2025-04-22T19:34:48.563489",
     "exception": false,
     "start_time": "2025-04-22T19:34:48.561450",
     "status": "completed"
    },
    "tags": []
   },
   "source": [
    "## II. Exploratory Data Analysis\n",
    "\n",
    "**II.i.** Loading the data from Kaggle competition\n",
    "This notebook require internet connection to download dataset from the kaggle competition.\n",
    "\n",
    "**II.ii.** Exploring and understanding the data"
   ]
  },
  {
   "cell_type": "code",
   "execution_count": 2,
   "id": "89a57410",
   "metadata": {
    "execution": {
     "iopub.execute_input": "2025-04-22T19:34:48.569376Z",
     "iopub.status.busy": "2025-04-22T19:34:48.568841Z",
     "iopub.status.idle": "2025-04-22T19:34:48.784688Z",
     "shell.execute_reply": "2025-04-22T19:34:48.783715Z"
    },
    "papermill": {
     "duration": 0.220622,
     "end_time": "2025-04-22T19:34:48.786265",
     "exception": false,
     "start_time": "2025-04-22T19:34:48.565643",
     "status": "completed"
    },
    "tags": []
   },
   "outputs": [
    {
     "name": "stdout",
     "output_type": "stream",
     "text": [
      "Data loaded successfully.\n",
      "\n",
      "Training Data Info:\n",
      "--------------------------\n",
      "<class 'pandas.core.frame.DataFrame'>\n",
      "RangeIndex: 1490 entries, 0 to 1489\n",
      "Data columns (total 3 columns):\n",
      " #   Column     Non-Null Count  Dtype \n",
      "---  ------     --------------  ----- \n",
      " 0   ArticleId  1490 non-null   int64 \n",
      " 1   Text       1490 non-null   object\n",
      " 2   Category   1490 non-null   object\n",
      "dtypes: int64(1), object(2)\n",
      "memory usage: 35.1+ KB\n",
      "None\n",
      "\n",
      "Testing Data Info:\n",
      "--------------------------\n",
      "<class 'pandas.core.frame.DataFrame'>\n",
      "RangeIndex: 735 entries, 0 to 734\n",
      "Data columns (total 2 columns):\n",
      " #   Column     Non-Null Count  Dtype \n",
      "---  ------     --------------  ----- \n",
      " 0   ArticleId  735 non-null    int64 \n",
      " 1   Text       735 non-null    object\n",
      "dtypes: int64(1), object(1)\n",
      "memory usage: 11.6+ KB\n",
      "None\n",
      "\n",
      "First five rows of training data:\n",
      "--------------------------\n",
      "   ArticleId                                               Text  Category\n",
      "0       1833  worldcom ex-boss launches defence lawyers defe...  business\n",
      "1        154  german business confidence slides german busin...  business\n",
      "2       1101  bbc poll indicates economic gloom citizens in ...  business\n",
      "3       1976  lifestyle  governs mobile choice  faster  bett...      tech\n",
      "4        917  enron bosses in $168m payout eighteen former e...  business\n",
      "\n",
      "First five rows of testing data:\n",
      "--------------------------\n",
      "   ArticleId                                               Text\n",
      "0       1018  qpr keeper day heads for preston queens park r...\n",
      "1       1319  software watching while you work software that...\n",
      "2       1138  d arcy injury adds to ireland woe gordon d arc...\n",
      "3        459  india s reliance family feud heats up the ongo...\n",
      "4       1020  boro suffer morrison injury blow middlesbrough...\n",
      "\n",
      "Missing values in Training Set:\n",
      "--------------------------\n",
      "ArticleId    0\n",
      "Text         0\n",
      "Category     0\n",
      "dtype: int64\n",
      "\n",
      "Missing Values in Test Set:\n",
      "--------------------------\n",
      "ArticleId    0\n",
      "Text         0\n",
      "dtype: int64\n"
     ]
    }
   ],
   "source": [
    "# EDA process\n",
    "# 1. load the dataset\n",
    "# 2. inspect the data\n",
    "\n",
    "## loading the data\n",
    "train = pd.read_csv('/kaggle/input/learn-ai-bbc/BBC News Train.csv')\n",
    "test = pd.read_csv('/kaggle/input/learn-ai-bbc/BBC News Test.csv')\n",
    "print(f\"Data loaded successfully.\")\n",
    "\n",
    "print(f\"\\nTraining Data Info:\")\n",
    "print(\"--------------------------\")\n",
    "print(train.info())\n",
    "print(f\"\\nTesting Data Info:\")\n",
    "print(\"--------------------------\")    \n",
    "print(test.info())\n",
    "\n",
    "print(f\"\\nFirst five rows of training data:\")\n",
    "print(\"--------------------------\")    \n",
    "print(train.head())\n",
    "print(f\"\\nFirst five rows of testing data:\")\n",
    "print(\"--------------------------\")    \n",
    "print(test.head())\n",
    "\n",
    "print(f\"\\nMissing values in Training Set:\")\n",
    "print(\"--------------------------\")    \n",
    "print(train.isnull().sum())\n",
    "print(f\"\\nMissing Values in Test Set:\")\n",
    "print(\"--------------------------\")    \n",
    "print(test.isnull().sum())\n",
    "\n",
    "\n"
   ]
  },
  {
   "cell_type": "code",
   "execution_count": 3,
   "id": "b91de2f3",
   "metadata": {
    "execution": {
     "iopub.execute_input": "2025-04-22T19:34:48.792735Z",
     "iopub.status.busy": "2025-04-22T19:34:48.792429Z",
     "iopub.status.idle": "2025-04-22T19:34:49.063301Z",
     "shell.execute_reply": "2025-04-22T19:34:49.062297Z"
    },
    "papermill": {
     "duration": 0.275935,
     "end_time": "2025-04-22T19:34:49.064979",
     "exception": false,
     "start_time": "2025-04-22T19:34:48.789044",
     "status": "completed"
    },
    "tags": []
   },
   "outputs": [
    {
     "data": {
      "image/png": "[encoded data removed]",
      "text/plain": [
       "<Figure size 1000x600 with 1 Axes>"
      ]
     },
     "metadata": {},
     "output_type": "display_data"
    }
   ],
   "source": [
    "# here is a bar chart of the count of text category\n",
    "category_count = train[\"Category\"].value_counts()\n",
    "plt.figure(figsize=(10, 6))\n",
    "sns.barplot(y=category_count.index, x=category_count.values, palette='viridis')\n",
    "plt.xlabel('Number of Articles')\n",
    "plt.ylabel('Category')\n",
    "plt.tight_layout()\n",
    "plt.show()\n"
   ]
  },
  {
   "cell_type": "markdown",
   "id": "15428827",
   "metadata": {
    "papermill": {
     "duration": 0.002442,
     "end_time": "2025-04-22T19:34:49.070285",
     "exception": false,
     "start_time": "2025-04-22T19:34:49.067843",
     "status": "completed"
    },
    "tags": []
   },
   "source": [
    "### Cleaning the data \n",
    "it is necessary to "
   ]
  },
  {
   "cell_type": "code",
   "execution_count": null,
   "id": "f4ba4a58",
   "metadata": {
    "papermill": {
     "duration": 0.002373,
     "end_time": "2025-04-22T19:34:49.075277",
     "exception": false,
     "start_time": "2025-04-22T19:34:49.072904",
     "status": "completed"
    },
    "tags": []
   },
   "outputs": [],
   "source": []
  },
  {
   "cell_type": "markdown",
   "id": "4b715e00",
   "metadata": {
    "papermill": {
     "duration": 0.002352,
     "end_time": "2025-04-22T19:34:49.081487",
     "exception": false,
     "start_time": "2025-04-22T19:34:49.079135",
     "status": "completed"
    },
    "tags": []
   },
   "source": []
  },
  {
   "cell_type": "code",
   "execution_count": null,
   "id": "e6f8bcc4",
   "metadata": {
    "papermill": {
     "duration": 0.002446,
     "end_time": "2025-04-22T19:34:49.086906",
     "exception": false,
     "start_time": "2025-04-22T19:34:49.084460",
     "status": "completed"
    },
    "tags": []
   },
   "outputs": [],
   "source": []
  }
 ],
 "metadata": {
  "kaggle": {
   "accelerator": "none",
   "dataSources": [
    {
     "databundleVersionId": 324297,
     "sourceId": 13351,
     "sourceType": "competition"
    }
   ],
   "dockerImageVersionId": 31012,
   "isGpuEnabled": false,
   "isInternetEnabled": false,
   "language": "python",
   "sourceType": "notebook"
  },
  "kernelspec": {
   "display_name": "Python 3",
   "language": "python",
   "name": "python3"
  },
  "language_info": {
   "codemirror_mode": {
    "name": "ipython",
    "version": 3
   },
   "file_extension": ".py",
   "mimetype": "text/x-python",
   "name": "python",
   "nbconvert_exporter": "python",
   "pygments_lexer": "ipython3",
   "version": "3.11.11"
  },
  "papermill": {
   "default_parameters": {},
   "duration": 22.236308,
   "end_time": "2025-04-22T19:34:51.886882",
   "environment_variables": {},
   "exception": null,
   "input_path": "__notebook__.ipynb",
   "output_path": "__notebook__.ipynb",
   "parameters": {},
   "start_time": "2025-04-22T19:34:29.650574",
   "version": "2.6.0"
  }
 },
 "nbformat": 4,
 "nbformat_minor": 5
}
